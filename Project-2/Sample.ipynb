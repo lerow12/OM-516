{
 "cells": [
  {
   "cell_type": "code",
   "execution_count": 314,
   "metadata": {},
   "outputs": [],
   "source": [
    "import pandas as pd\n",
    "import numpy as np\n",
    "from sklearn.linear_model import LinearRegression\n",
    "import math\n",
    "import matplotlib.pyplot as plt\n",
    "import matplotlib as mpl\n",
    "import PublicFunctions as pf"
   ]
  },
  {
   "cell_type": "markdown",
   "metadata": {},
   "source": [
    "# Read"
   ]
  },
  {
   "cell_type": "markdown",
   "metadata": {},
   "source": [
    "The data was downloaded from Zillow Research (https://www.zillow.com/research/data/ --> Inventory --> New Listings (Raw, All Homes, Montly View)) as the .csv file given here. Column headers represent the last day of the month, which we simply refer to as the month, i.e., column '2018-1-31' is 'January 2018.'"
   ]
  },
  {
   "cell_type": "code",
   "execution_count": 315,
   "metadata": {
    "scrolled": true
   },
   "outputs": [
    {
     "data": {
      "text/html": [
       "<div>\n",
       "<style scoped>\n",
       "    .dataframe tbody tr th:only-of-type {\n",
       "        vertical-align: middle;\n",
       "    }\n",
       "\n",
       "    .dataframe tbody tr th {\n",
       "        vertical-align: top;\n",
       "    }\n",
       "\n",
       "    .dataframe thead th {\n",
       "        text-align: right;\n",
       "    }\n",
       "</style>\n",
       "<table border=\"1\" class=\"dataframe\">\n",
       "  <thead>\n",
       "    <tr style=\"text-align: right;\">\n",
       "      <th></th>\n",
       "      <th>RegionID</th>\n",
       "      <th>SizeRank</th>\n",
       "      <th>RegionName</th>\n",
       "      <th>RegionType</th>\n",
       "      <th>StateName</th>\n",
       "      <th>2018-01-31</th>\n",
       "      <th>2018-02-28</th>\n",
       "      <th>2018-03-31</th>\n",
       "      <th>2018-04-30</th>\n",
       "      <th>2018-05-31</th>\n",
       "      <th>...</th>\n",
       "      <th>2022-11-30</th>\n",
       "      <th>2022-12-31</th>\n",
       "      <th>2023-01-31</th>\n",
       "      <th>2023-02-28</th>\n",
       "      <th>2023-03-31</th>\n",
       "      <th>2023-04-30</th>\n",
       "      <th>2023-05-31</th>\n",
       "      <th>2023-06-30</th>\n",
       "      <th>2023-07-31</th>\n",
       "      <th>2023-08-31</th>\n",
       "    </tr>\n",
       "  </thead>\n",
       "  <tbody>\n",
       "    <tr>\n",
       "      <th>0</th>\n",
       "      <td>102001</td>\n",
       "      <td>0</td>\n",
       "      <td>United States</td>\n",
       "      <td>country</td>\n",
       "      <td>NaN</td>\n",
       "      <td>323256.0</td>\n",
       "      <td>376081.0</td>\n",
       "      <td>476114.0</td>\n",
       "      <td>509438.0</td>\n",
       "      <td>538099.0</td>\n",
       "      <td>...</td>\n",
       "      <td>240504.0</td>\n",
       "      <td>169573.0</td>\n",
       "      <td>235076.0</td>\n",
       "      <td>247763.0</td>\n",
       "      <td>333606.0</td>\n",
       "      <td>332116.0</td>\n",
       "      <td>367751.0</td>\n",
       "      <td>376743.0</td>\n",
       "      <td>335943.0</td>\n",
       "      <td>349327.0</td>\n",
       "    </tr>\n",
       "    <tr>\n",
       "      <th>1</th>\n",
       "      <td>394913</td>\n",
       "      <td>1</td>\n",
       "      <td>New York, NY</td>\n",
       "      <td>msa</td>\n",
       "      <td>NY</td>\n",
       "      <td>14880.0</td>\n",
       "      <td>22651.0</td>\n",
       "      <td>22492.0</td>\n",
       "      <td>25714.0</td>\n",
       "      <td>25627.0</td>\n",
       "      <td>...</td>\n",
       "      <td>9711.0</td>\n",
       "      <td>5829.0</td>\n",
       "      <td>9754.0</td>\n",
       "      <td>10439.0</td>\n",
       "      <td>14598.0</td>\n",
       "      <td>13820.0</td>\n",
       "      <td>14360.0</td>\n",
       "      <td>13639.0</td>\n",
       "      <td>11370.0</td>\n",
       "      <td>11234.0</td>\n",
       "    </tr>\n",
       "    <tr>\n",
       "      <th>2</th>\n",
       "      <td>753899</td>\n",
       "      <td>2</td>\n",
       "      <td>Los Angeles, CA</td>\n",
       "      <td>msa</td>\n",
       "      <td>CA</td>\n",
       "      <td>8136.0</td>\n",
       "      <td>9261.0</td>\n",
       "      <td>10164.0</td>\n",
       "      <td>10597.0</td>\n",
       "      <td>11556.0</td>\n",
       "      <td>...</td>\n",
       "      <td>4806.0</td>\n",
       "      <td>3048.0</td>\n",
       "      <td>4699.0</td>\n",
       "      <td>4988.0</td>\n",
       "      <td>6370.0</td>\n",
       "      <td>6156.0</td>\n",
       "      <td>6831.0</td>\n",
       "      <td>6949.0</td>\n",
       "      <td>6658.0</td>\n",
       "      <td>6434.0</td>\n",
       "    </tr>\n",
       "    <tr>\n",
       "      <th>3</th>\n",
       "      <td>394463</td>\n",
       "      <td>3</td>\n",
       "      <td>Chicago, IL</td>\n",
       "      <td>msa</td>\n",
       "      <td>IL</td>\n",
       "      <td>8645.0</td>\n",
       "      <td>11908.0</td>\n",
       "      <td>17472.0</td>\n",
       "      <td>16696.0</td>\n",
       "      <td>16869.0</td>\n",
       "      <td>...</td>\n",
       "      <td>6271.0</td>\n",
       "      <td>3899.0</td>\n",
       "      <td>6043.0</td>\n",
       "      <td>7047.0</td>\n",
       "      <td>9530.0</td>\n",
       "      <td>9649.0</td>\n",
       "      <td>10865.0</td>\n",
       "      <td>11071.0</td>\n",
       "      <td>9597.0</td>\n",
       "      <td>9942.0</td>\n",
       "    </tr>\n",
       "    <tr>\n",
       "      <th>4</th>\n",
       "      <td>394514</td>\n",
       "      <td>4</td>\n",
       "      <td>Dallas, TX</td>\n",
       "      <td>msa</td>\n",
       "      <td>TX</td>\n",
       "      <td>7389.0</td>\n",
       "      <td>7894.0</td>\n",
       "      <td>10535.0</td>\n",
       "      <td>11797.0</td>\n",
       "      <td>11995.0</td>\n",
       "      <td>...</td>\n",
       "      <td>5459.0</td>\n",
       "      <td>3983.0</td>\n",
       "      <td>5188.0</td>\n",
       "      <td>5291.0</td>\n",
       "      <td>8159.0</td>\n",
       "      <td>8879.0</td>\n",
       "      <td>9467.0</td>\n",
       "      <td>10007.0</td>\n",
       "      <td>8650.0</td>\n",
       "      <td>8211.0</td>\n",
       "    </tr>\n",
       "    <tr>\n",
       "      <th>...</th>\n",
       "      <td>...</td>\n",
       "      <td>...</td>\n",
       "      <td>...</td>\n",
       "      <td>...</td>\n",
       "      <td>...</td>\n",
       "      <td>...</td>\n",
       "      <td>...</td>\n",
       "      <td>...</td>\n",
       "      <td>...</td>\n",
       "      <td>...</td>\n",
       "      <td>...</td>\n",
       "      <td>...</td>\n",
       "      <td>...</td>\n",
       "      <td>...</td>\n",
       "      <td>...</td>\n",
       "      <td>...</td>\n",
       "      <td>...</td>\n",
       "      <td>...</td>\n",
       "      <td>...</td>\n",
       "      <td>...</td>\n",
       "      <td>...</td>\n",
       "    </tr>\n",
       "    <tr>\n",
       "      <th>920</th>\n",
       "      <td>394968</td>\n",
       "      <td>934</td>\n",
       "      <td>Pecos, TX</td>\n",
       "      <td>msa</td>\n",
       "      <td>TX</td>\n",
       "      <td>NaN</td>\n",
       "      <td>NaN</td>\n",
       "      <td>NaN</td>\n",
       "      <td>NaN</td>\n",
       "      <td>NaN</td>\n",
       "      <td>...</td>\n",
       "      <td>NaN</td>\n",
       "      <td>NaN</td>\n",
       "      <td>NaN</td>\n",
       "      <td>NaN</td>\n",
       "      <td>NaN</td>\n",
       "      <td>NaN</td>\n",
       "      <td>10.0</td>\n",
       "      <td>6.0</td>\n",
       "      <td>9.0</td>\n",
       "      <td>5.0</td>\n",
       "    </tr>\n",
       "    <tr>\n",
       "      <th>921</th>\n",
       "      <td>394743</td>\n",
       "      <td>936</td>\n",
       "      <td>Ketchikan, AK</td>\n",
       "      <td>msa</td>\n",
       "      <td>AK</td>\n",
       "      <td>9.0</td>\n",
       "      <td>11.0</td>\n",
       "      <td>17.0</td>\n",
       "      <td>11.0</td>\n",
       "      <td>17.0</td>\n",
       "      <td>...</td>\n",
       "      <td>7.0</td>\n",
       "      <td>8.0</td>\n",
       "      <td>11.0</td>\n",
       "      <td>15.0</td>\n",
       "      <td>25.0</td>\n",
       "      <td>15.0</td>\n",
       "      <td>11.0</td>\n",
       "      <td>11.0</td>\n",
       "      <td>9.0</td>\n",
       "      <td>9.0</td>\n",
       "    </tr>\n",
       "    <tr>\n",
       "      <th>922</th>\n",
       "      <td>753874</td>\n",
       "      <td>937</td>\n",
       "      <td>Craig, CO</td>\n",
       "      <td>msa</td>\n",
       "      <td>CO</td>\n",
       "      <td>NaN</td>\n",
       "      <td>NaN</td>\n",
       "      <td>NaN</td>\n",
       "      <td>NaN</td>\n",
       "      <td>NaN</td>\n",
       "      <td>...</td>\n",
       "      <td>NaN</td>\n",
       "      <td>NaN</td>\n",
       "      <td>7.0</td>\n",
       "      <td>14.0</td>\n",
       "      <td>16.0</td>\n",
       "      <td>30.0</td>\n",
       "      <td>27.0</td>\n",
       "      <td>36.0</td>\n",
       "      <td>24.0</td>\n",
       "      <td>34.0</td>\n",
       "    </tr>\n",
       "    <tr>\n",
       "      <th>923</th>\n",
       "      <td>395188</td>\n",
       "      <td>938</td>\n",
       "      <td>Vernon, TX</td>\n",
       "      <td>msa</td>\n",
       "      <td>TX</td>\n",
       "      <td>NaN</td>\n",
       "      <td>NaN</td>\n",
       "      <td>NaN</td>\n",
       "      <td>NaN</td>\n",
       "      <td>NaN</td>\n",
       "      <td>...</td>\n",
       "      <td>NaN</td>\n",
       "      <td>NaN</td>\n",
       "      <td>14.0</td>\n",
       "      <td>6.0</td>\n",
       "      <td>14.0</td>\n",
       "      <td>10.0</td>\n",
       "      <td>20.0</td>\n",
       "      <td>19.0</td>\n",
       "      <td>12.0</td>\n",
       "      <td>11.0</td>\n",
       "    </tr>\n",
       "    <tr>\n",
       "      <th>924</th>\n",
       "      <td>394767</td>\n",
       "      <td>939</td>\n",
       "      <td>Lamesa, TX</td>\n",
       "      <td>msa</td>\n",
       "      <td>TX</td>\n",
       "      <td>NaN</td>\n",
       "      <td>NaN</td>\n",
       "      <td>NaN</td>\n",
       "      <td>NaN</td>\n",
       "      <td>NaN</td>\n",
       "      <td>...</td>\n",
       "      <td>NaN</td>\n",
       "      <td>NaN</td>\n",
       "      <td>NaN</td>\n",
       "      <td>6.0</td>\n",
       "      <td>7.0</td>\n",
       "      <td>6.0</td>\n",
       "      <td>10.0</td>\n",
       "      <td>13.0</td>\n",
       "      <td>10.0</td>\n",
       "      <td>9.0</td>\n",
       "    </tr>\n",
       "  </tbody>\n",
       "</table>\n",
       "<p>925 rows × 73 columns</p>\n",
       "</div>"
      ],
      "text/plain": [
       "     RegionID  SizeRank       RegionName RegionType StateName  2018-01-31  \\\n",
       "0      102001         0    United States    country       NaN    323256.0   \n",
       "1      394913         1     New York, NY        msa        NY     14880.0   \n",
       "2      753899         2  Los Angeles, CA        msa        CA      8136.0   \n",
       "3      394463         3      Chicago, IL        msa        IL      8645.0   \n",
       "4      394514         4       Dallas, TX        msa        TX      7389.0   \n",
       "..        ...       ...              ...        ...       ...         ...   \n",
       "920    394968       934        Pecos, TX        msa        TX         NaN   \n",
       "921    394743       936    Ketchikan, AK        msa        AK         9.0   \n",
       "922    753874       937        Craig, CO        msa        CO         NaN   \n",
       "923    395188       938       Vernon, TX        msa        TX         NaN   \n",
       "924    394767       939       Lamesa, TX        msa        TX         NaN   \n",
       "\n",
       "     2018-02-28  2018-03-31  2018-04-30  2018-05-31  ...  2022-11-30  \\\n",
       "0      376081.0    476114.0    509438.0    538099.0  ...    240504.0   \n",
       "1       22651.0     22492.0     25714.0     25627.0  ...      9711.0   \n",
       "2        9261.0     10164.0     10597.0     11556.0  ...      4806.0   \n",
       "3       11908.0     17472.0     16696.0     16869.0  ...      6271.0   \n",
       "4        7894.0     10535.0     11797.0     11995.0  ...      5459.0   \n",
       "..          ...         ...         ...         ...  ...         ...   \n",
       "920         NaN         NaN         NaN         NaN  ...         NaN   \n",
       "921        11.0        17.0        11.0        17.0  ...         7.0   \n",
       "922         NaN         NaN         NaN         NaN  ...         NaN   \n",
       "923         NaN         NaN         NaN         NaN  ...         NaN   \n",
       "924         NaN         NaN         NaN         NaN  ...         NaN   \n",
       "\n",
       "     2022-12-31  2023-01-31  2023-02-28  2023-03-31  2023-04-30  2023-05-31  \\\n",
       "0      169573.0    235076.0    247763.0    333606.0    332116.0    367751.0   \n",
       "1        5829.0      9754.0     10439.0     14598.0     13820.0     14360.0   \n",
       "2        3048.0      4699.0      4988.0      6370.0      6156.0      6831.0   \n",
       "3        3899.0      6043.0      7047.0      9530.0      9649.0     10865.0   \n",
       "4        3983.0      5188.0      5291.0      8159.0      8879.0      9467.0   \n",
       "..          ...         ...         ...         ...         ...         ...   \n",
       "920         NaN         NaN         NaN         NaN         NaN        10.0   \n",
       "921         8.0        11.0        15.0        25.0        15.0        11.0   \n",
       "922         NaN         7.0        14.0        16.0        30.0        27.0   \n",
       "923         NaN        14.0         6.0        14.0        10.0        20.0   \n",
       "924         NaN         NaN         6.0         7.0         6.0        10.0   \n",
       "\n",
       "     2023-06-30  2023-07-31  2023-08-31  \n",
       "0      376743.0    335943.0    349327.0  \n",
       "1       13639.0     11370.0     11234.0  \n",
       "2        6949.0      6658.0      6434.0  \n",
       "3       11071.0      9597.0      9942.0  \n",
       "4       10007.0      8650.0      8211.0  \n",
       "..          ...         ...         ...  \n",
       "920         6.0         9.0         5.0  \n",
       "921        11.0         9.0         9.0  \n",
       "922        36.0        24.0        34.0  \n",
       "923        19.0        12.0        11.0  \n",
       "924        13.0        10.0         9.0  \n",
       "\n",
       "[925 rows x 73 columns]"
      ]
     },
     "execution_count": 315,
     "metadata": {},
     "output_type": "execute_result"
    }
   ],
   "source": [
    "df = pd.read_csv('Metro_new_listings_uc_sfrcondo_month.csv')\n",
    "df"
   ]
  },
  {
   "cell_type": "markdown",
   "metadata": {},
   "source": [
    "# Isolate the data for the team"
   ]
  },
  {
   "cell_type": "code",
   "execution_count": 316,
   "metadata": {},
   "outputs": [
    {
     "data": {
      "text/plain": [
       "RegionID          394355\n",
       "SizeRank              29\n",
       "RegionName    Austin, TX\n",
       "RegionType           msa\n",
       "StateName             TX\n",
       "                 ...    \n",
       "2023-04-30        3367.0\n",
       "2023-05-31        3533.0\n",
       "2023-06-30        3630.0\n",
       "2023-07-31        2905.0\n",
       "2023-08-31        2809.0\n",
       "Name: 29, Length: 73, dtype: object"
      ]
     },
     "execution_count": 316,
     "metadata": {},
     "output_type": "execute_result"
    }
   ],
   "source": [
    "team = 29\n",
    "row = df.iloc[team]\n",
    "row"
   ]
  },
  {
   "cell_type": "markdown",
   "metadata": {},
   "source": [
    "Calculate the monthly averages for years 1 thru 4. "
   ]
  },
  {
   "cell_type": "code",
   "execution_count": 317,
   "metadata": {},
   "outputs": [],
   "source": [
    "yearly_data = {}\n",
    "\n",
    "def Get_Yearly_Data(year, data):\n",
    "    month_labels = [label for label in data.index if year in label]\n",
    "    return {\"data\": data[month_labels]}"
   ]
  },
  {
   "cell_type": "code",
   "execution_count": 318,
   "metadata": {},
   "outputs": [
    {
     "data": {
      "text/plain": [
       "{'2018': {'data': 2018-01-31    2050.0\n",
       "  2018-02-28    2826.0\n",
       "  2018-03-31    3573.0\n",
       "  2018-04-30    3981.0\n",
       "  2018-05-31    4078.0\n",
       "  2018-06-30    3703.0\n",
       "  2018-07-31    3340.0\n",
       "  2018-08-31    3124.0\n",
       "  2018-09-30    2311.0\n",
       "  2018-10-31    2556.0\n",
       "  2018-11-30    2034.0\n",
       "  2018-12-31    1389.0\n",
       "  Name: 29, dtype: object,\n",
       "  'avg_demand': 2913.75},\n",
       " '2019': {'data': 2019-01-31    2367.0\n",
       "  2019-02-28    2600.0\n",
       "  2019-03-31    3512.0\n",
       "  2019-04-30    3767.0\n",
       "  2019-05-31    4153.0\n",
       "  2019-06-30    3641.0\n",
       "  2019-07-31    3385.0\n",
       "  2019-08-31    3045.0\n",
       "  2019-09-30    2595.0\n",
       "  2019-10-31    2756.0\n",
       "  2019-11-30    2071.0\n",
       "  2019-12-31    1483.0\n",
       "  Name: 29, dtype: object,\n",
       "  'avg_demand': 2947.9166666666665},\n",
       " '2020': {'data': 2020-01-31    2540.0\n",
       "  2020-02-29    2671.0\n",
       "  2020-03-31    3525.0\n",
       "  2020-04-30    2993.0\n",
       "  2020-05-31    3508.0\n",
       "  2020-06-30    3537.0\n",
       "  2020-07-31    3882.0\n",
       "  2020-08-31    3249.0\n",
       "  2020-09-30    2889.0\n",
       "  2020-10-31    2813.0\n",
       "  2020-11-30    2063.0\n",
       "  2020-12-31    1643.0\n",
       "  Name: 29, dtype: object,\n",
       "  'avg_demand': 2942.75},\n",
       " '2021': {'data': 2021-01-31    2292.0\n",
       "  2021-02-28    2167.0\n",
       "  2021-03-31    3623.0\n",
       "  2021-04-30    4214.0\n",
       "  2021-05-31    3964.0\n",
       "  2021-06-30    4446.0\n",
       "  2021-07-31    4756.0\n",
       "  2021-08-31    3961.0\n",
       "  2021-09-30    3720.0\n",
       "  2021-10-31    3321.0\n",
       "  2021-11-30    2526.0\n",
       "  2021-12-31    1739.0\n",
       "  Name: 29, dtype: object,\n",
       "  'avg_demand': 3394.0833333333335},\n",
       " '2022': {'data': 2022-01-31    2062.0\n",
       "  2022-02-28    2426.0\n",
       "  2022-03-31    3599.0\n",
       "  2022-04-30    4110.0\n",
       "  2022-05-31    4666.0\n",
       "  2022-06-30    5397.0\n",
       "  2022-07-31    4443.0\n",
       "  2022-08-31    3348.0\n",
       "  2022-09-30    3219.0\n",
       "  2022-10-31    2485.0\n",
       "  2022-11-30    1816.0\n",
       "  2022-12-31    1291.0\n",
       "  Name: 29, dtype: object,\n",
       "  'avg_demand': 3238.5}}"
      ]
     },
     "execution_count": 318,
     "metadata": {},
     "output_type": "execute_result"
    }
   ],
   "source": [
    "years = [\"2018\", \"2019\", \"2020\", \"2021\", \"2022\"]\n",
    "\n",
    "for current_year in years:\n",
    "    yearly_data[current_year] = Get_Yearly_Data(current_year, row)\n",
    "    yearly_data[current_year][\"avg_demand\"] = yearly_data[current_year][\"data\"].mean()\n",
    "\n",
    "yearly_data"
   ]
  },
  {
   "cell_type": "markdown",
   "metadata": {},
   "source": [
    "# Forecast Using the Decomposition Method"
   ]
  },
  {
   "cell_type": "markdown",
   "metadata": {},
   "source": [
    "Calculate the seasonal index for each season each year, and then the average (over the two years) for each season."
   ]
  },
  {
   "cell_type": "code",
   "execution_count": 319,
   "metadata": {},
   "outputs": [
    {
     "data": {
      "text/html": [
       "<div>\n",
       "<style scoped>\n",
       "    .dataframe tbody tr th:only-of-type {\n",
       "        vertical-align: middle;\n",
       "    }\n",
       "\n",
       "    .dataframe tbody tr th {\n",
       "        vertical-align: top;\n",
       "    }\n",
       "\n",
       "    .dataframe thead th {\n",
       "        text-align: right;\n",
       "    }\n",
       "</style>\n",
       "<table border=\"1\" class=\"dataframe\">\n",
       "  <thead>\n",
       "    <tr style=\"text-align: right;\">\n",
       "      <th></th>\n",
       "      <th>January</th>\n",
       "      <th>February</th>\n",
       "      <th>March</th>\n",
       "      <th>April</th>\n",
       "      <th>May</th>\n",
       "      <th>June</th>\n",
       "      <th>July</th>\n",
       "      <th>August</th>\n",
       "      <th>September</th>\n",
       "      <th>October</th>\n",
       "      <th>November</th>\n",
       "      <th>December</th>\n",
       "    </tr>\n",
       "  </thead>\n",
       "  <tbody>\n",
       "    <tr>\n",
       "      <th>Year 1</th>\n",
       "      <td>0.703561</td>\n",
       "      <td>0.969884</td>\n",
       "      <td>1.226255</td>\n",
       "      <td>1.366281</td>\n",
       "      <td>1.399571</td>\n",
       "      <td>1.270871</td>\n",
       "      <td>1.146289</td>\n",
       "      <td>1.072158</td>\n",
       "      <td>0.793136</td>\n",
       "      <td>0.877220</td>\n",
       "      <td>0.698069</td>\n",
       "      <td>0.476705</td>\n",
       "    </tr>\n",
       "    <tr>\n",
       "      <th>Year 2</th>\n",
       "      <td>0.802940</td>\n",
       "      <td>0.881979</td>\n",
       "      <td>1.191350</td>\n",
       "      <td>1.277852</td>\n",
       "      <td>1.408792</td>\n",
       "      <td>1.235110</td>\n",
       "      <td>1.148269</td>\n",
       "      <td>1.032933</td>\n",
       "      <td>0.880283</td>\n",
       "      <td>0.934898</td>\n",
       "      <td>0.702530</td>\n",
       "      <td>0.503067</td>\n",
       "    </tr>\n",
       "    <tr>\n",
       "      <th>Year 3</th>\n",
       "      <td>0.863138</td>\n",
       "      <td>0.907654</td>\n",
       "      <td>1.197859</td>\n",
       "      <td>1.017076</td>\n",
       "      <td>1.192082</td>\n",
       "      <td>1.201937</td>\n",
       "      <td>1.319174</td>\n",
       "      <td>1.104069</td>\n",
       "      <td>0.981735</td>\n",
       "      <td>0.955909</td>\n",
       "      <td>0.701045</td>\n",
       "      <td>0.558321</td>\n",
       "    </tr>\n",
       "    <tr>\n",
       "      <th>Year 4</th>\n",
       "      <td>0.675293</td>\n",
       "      <td>0.638464</td>\n",
       "      <td>1.067446</td>\n",
       "      <td>1.241572</td>\n",
       "      <td>1.167915</td>\n",
       "      <td>1.309927</td>\n",
       "      <td>1.401262</td>\n",
       "      <td>1.167031</td>\n",
       "      <td>1.096025</td>\n",
       "      <td>0.978467</td>\n",
       "      <td>0.744236</td>\n",
       "      <td>0.512362</td>\n",
       "    </tr>\n",
       "    <tr>\n",
       "      <th>Year 5</th>\n",
       "      <td>0.636715</td>\n",
       "      <td>0.749112</td>\n",
       "      <td>1.111317</td>\n",
       "      <td>1.269106</td>\n",
       "      <td>1.440790</td>\n",
       "      <td>1.666512</td>\n",
       "      <td>1.371931</td>\n",
       "      <td>1.033812</td>\n",
       "      <td>0.993979</td>\n",
       "      <td>0.767331</td>\n",
       "      <td>0.560753</td>\n",
       "      <td>0.398641</td>\n",
       "    </tr>\n",
       "    <tr>\n",
       "      <th>Average</th>\n",
       "      <td>0.736329</td>\n",
       "      <td>0.829419</td>\n",
       "      <td>1.158845</td>\n",
       "      <td>1.234377</td>\n",
       "      <td>1.321830</td>\n",
       "      <td>1.336871</td>\n",
       "      <td>1.277385</td>\n",
       "      <td>1.082001</td>\n",
       "      <td>0.949031</td>\n",
       "      <td>0.902765</td>\n",
       "      <td>0.681327</td>\n",
       "      <td>0.489819</td>\n",
       "    </tr>\n",
       "  </tbody>\n",
       "</table>\n",
       "</div>"
      ],
      "text/plain": [
       "          January  February     March     April       May      June      July  \\\n",
       "Year 1   0.703561  0.969884  1.226255  1.366281  1.399571  1.270871  1.146289   \n",
       "Year 2   0.802940  0.881979  1.191350  1.277852  1.408792  1.235110  1.148269   \n",
       "Year 3   0.863138  0.907654  1.197859  1.017076  1.192082  1.201937  1.319174   \n",
       "Year 4   0.675293  0.638464  1.067446  1.241572  1.167915  1.309927  1.401262   \n",
       "Year 5   0.636715  0.749112  1.111317  1.269106  1.440790  1.666512  1.371931   \n",
       "Average  0.736329  0.829419  1.158845  1.234377  1.321830  1.336871  1.277385   \n",
       "\n",
       "           August  September   October  November  December  \n",
       "Year 1   1.072158   0.793136  0.877220  0.698069  0.476705  \n",
       "Year 2   1.032933   0.880283  0.934898  0.702530  0.503067  \n",
       "Year 3   1.104069   0.981735  0.955909  0.701045  0.558321  \n",
       "Year 4   1.167031   1.096025  0.978467  0.744236  0.512362  \n",
       "Year 5   1.033812   0.993979  0.767331  0.560753  0.398641  \n",
       "Average  1.082001   0.949031  0.902765  0.681327  0.489819  "
      ]
     },
     "execution_count": 319,
     "metadata": {},
     "output_type": "execute_result"
    }
   ],
   "source": [
    "values = [yearly_data[year][\"data\"].values/yearly_data[year][\"avg_demand\"] for year in years]\n",
    "SI = pd.DataFrame(values, columns = ['January', 'February', 'March', 'April', 'May', 'June', 'July', 'August', 'September', 'October', 'November', 'December'], index = ['Year 1', 'Year 2', 'Year 3', 'Year 4', 'Year 5'])\n",
    "SI.loc['Average'] = SI.mean()\n",
    "SI"
   ]
  },
  {
   "cell_type": "markdown",
   "metadata": {},
   "source": [
    "Deseasonalize the data."
   ]
  },
  {
   "cell_type": "code",
   "execution_count": 320,
   "metadata": {},
   "outputs": [
    {
     "name": "stdout",
     "output_type": "stream",
     "text": [
      "y =  [2784.0806865684945 3407.205461810885 3083.2415346368616 3225.107950032159\n",
      " 3085.116846496077 2769.900248059269 2614.716625388807 2887.244309478417\n",
      " 2435.114324232996 2831.3021278917217 2985.351344917954 2835.7387513902545\n",
      " 3214.594626881769 3134.7254779576438 3030.6029302112115 3051.741182559945\n",
      " 3141.856366723445 2723.52330628782 2649.9448433955426 2814.231409206716\n",
      " 2734.3667985221223 3052.843765441935 3039.6571461775234\n",
      " 3027.6461974886593 3449.543875065354 3220.327596778795 3041.820993449465\n",
      " 2424.7043693660517 2653.8964927680818 2645.729726542164\n",
      " 3039.0209400477092 3002.771050414653 3044.1563317650907\n",
      " 3115.9831321437455 3027.91535131059 3354.29716957105 3112.7380163975554\n",
      " 2612.6731195131592 3126.387931707067 3413.8670940556435 2998.872775750478\n",
      " 3325.6755341267917 3723.2312186674153 3660.811366787455\n",
      " 3919.7859308294005 3678.6988915212864 3707.471729234391\n",
      " 3550.2877528204845 2800.377744245968 2924.940003663555 3105.6776611133687\n",
      " 3329.6140855644744 3529.95468507864 4037.037979685626 3478.1993911983445\n",
      " 3094.2682292361524 3391.8792772418924 2752.654846561396 2665.387434794004\n",
      " 2635.66503098979]\n"
     ]
    }
   ],
   "source": [
    "y_dm = np.array(row[5:65])\n",
    "y_dm[0] = y_dm[0]/SI.loc['Average']['January']\n",
    "y_dm[1] = y_dm[1]/SI.loc['Average']['February']\n",
    "y_dm[2] = y_dm[2]/SI.loc['Average']['March']\n",
    "y_dm[3] = y_dm[3]/SI.loc['Average']['April']\n",
    "y_dm[4] = y_dm[4]/SI.loc['Average']['May']\n",
    "y_dm[5] = y_dm[5]/SI.loc['Average']['June']\n",
    "y_dm[6] = y_dm[6]/SI.loc['Average']['July']\n",
    "y_dm[7] = y_dm[7]/SI.loc['Average']['August']\n",
    "y_dm[8] = y_dm[8]/SI.loc['Average']['September']\n",
    "y_dm[9] = y_dm[9]/SI.loc['Average']['October']\n",
    "y_dm[10] = y_dm[10]/SI.loc['Average']['November']\n",
    "y_dm[11] = y_dm[11]/SI.loc['Average']['December']\n",
    "y_dm[12] = y_dm[12]/SI.loc['Average']['January']\n",
    "y_dm[13] = y_dm[13]/SI.loc['Average']['February']\n",
    "y_dm[14] = y_dm[14]/SI.loc['Average']['March']\n",
    "y_dm[15] = y_dm[15]/SI.loc['Average']['April']\n",
    "y_dm[16] = y_dm[16]/SI.loc['Average']['May']\n",
    "y_dm[17] = y_dm[17]/SI.loc['Average']['June']\n",
    "y_dm[18] = y_dm[18]/SI.loc['Average']['July']\n",
    "y_dm[19] = y_dm[19]/SI.loc['Average']['August']\n",
    "y_dm[20] = y_dm[20]/SI.loc['Average']['September']\n",
    "y_dm[21] = y_dm[21]/SI.loc['Average']['October']\n",
    "y_dm[22] = y_dm[22]/SI.loc['Average']['November']\n",
    "y_dm[23] = y_dm[23]/SI.loc['Average']['December']\n",
    "y_dm[24] = y_dm[24]/SI.loc['Average']['January']\n",
    "y_dm[25] = y_dm[25]/SI.loc['Average']['February']\n",
    "y_dm[26] = y_dm[26]/SI.loc['Average']['March']\n",
    "y_dm[27] = y_dm[27]/SI.loc['Average']['April']\n",
    "y_dm[28] = y_dm[28]/SI.loc['Average']['May']\n",
    "y_dm[29] = y_dm[29]/SI.loc['Average']['June']\n",
    "y_dm[30] = y_dm[30]/SI.loc['Average']['July']\n",
    "y_dm[31] = y_dm[31]/SI.loc['Average']['August']\n",
    "y_dm[32] = y_dm[32]/SI.loc['Average']['September']\n",
    "y_dm[33] = y_dm[33]/SI.loc['Average']['October']\n",
    "y_dm[34] = y_dm[34]/SI.loc['Average']['November']\n",
    "y_dm[35] = y_dm[35]/SI.loc['Average']['December']\n",
    "y_dm[36] = y_dm[36]/SI.loc['Average']['January']\n",
    "y_dm[37] = y_dm[37]/SI.loc['Average']['February']\n",
    "y_dm[38] = y_dm[38]/SI.loc['Average']['March']\n",
    "y_dm[39] = y_dm[39]/SI.loc['Average']['April']\n",
    "y_dm[40] = y_dm[40]/SI.loc['Average']['May']\n",
    "y_dm[41] = y_dm[41]/SI.loc['Average']['June']\n",
    "y_dm[42] = y_dm[42]/SI.loc['Average']['July']\n",
    "y_dm[43] = y_dm[43]/SI.loc['Average']['August']\n",
    "y_dm[44] = y_dm[44]/SI.loc['Average']['September']\n",
    "y_dm[45] = y_dm[45]/SI.loc['Average']['October']\n",
    "y_dm[46] = y_dm[46]/SI.loc['Average']['November']\n",
    "y_dm[47] = y_dm[47]/SI.loc['Average']['December']\n",
    "y_dm[48] = y_dm[48]/SI.loc['Average']['January']\n",
    "y_dm[49] = y_dm[49]/SI.loc['Average']['February']\n",
    "y_dm[50] = y_dm[50]/SI.loc['Average']['March']\n",
    "y_dm[51] = y_dm[51]/SI.loc['Average']['April']\n",
    "y_dm[52] = y_dm[52]/SI.loc['Average']['May']\n",
    "y_dm[53] = y_dm[53]/SI.loc['Average']['June']\n",
    "y_dm[54] = y_dm[54]/SI.loc['Average']['July']\n",
    "y_dm[55] = y_dm[55]/SI.loc['Average']['August']\n",
    "y_dm[56] = y_dm[56]/SI.loc['Average']['September']\n",
    "y_dm[57] = y_dm[57]/SI.loc['Average']['October']\n",
    "y_dm[58] = y_dm[58]/SI.loc['Average']['November']\n",
    "y_dm[59] = y_dm[59]/SI.loc['Average']['December']\n",
    "print(\"y = \",y_dm)"
   ]
  },
  {
   "cell_type": "markdown",
   "metadata": {},
   "source": [
    "Perform simple linear regression to extract trend."
   ]
  },
  {
   "cell_type": "code",
   "execution_count": 321,
   "metadata": {},
   "outputs": [
    {
     "name": "stdout",
     "output_type": "stream",
     "text": [
      "Coefficient of determination: 0.1266229933903419\n",
      "Intercept: 2863.829208236648\n",
      "Slope: 7.282200288287671\n"
     ]
    }
   ],
   "source": [
    "x = np.arange(1, 61).reshape((-1, 1))\n",
    "model_dm = LinearRegression().fit(x,y_dm)\n",
    "r_sq_dm = model_dm.score(x, y_dm)\n",
    "print('Coefficient of determination:', r_sq_dm)\n",
    "intercept_dm = model_dm.intercept_\n",
    "print('Intercept:', intercept_dm)\n",
    "slope_dm = model_dm.coef_[0]\n",
    "print('Slope:', slope_dm)"
   ]
  },
  {
   "cell_type": "markdown",
   "metadata": {},
   "source": [
    "Extend the trend to year 6. "
   ]
  },
  {
   "cell_type": "code",
   "execution_count": 322,
   "metadata": {},
   "outputs": [
    {
     "data": {
      "text/plain": [
       "array([3308.04342582, 3315.32562611, 3322.6078264 , 3329.89002669,\n",
       "       3337.17222698, 3344.45442726, 3351.73662755, 3359.01882784,\n",
       "       3366.30102813, 3373.58322842, 3380.86542871, 3388.14762899])"
      ]
     },
     "execution_count": 322,
     "metadata": {},
     "output_type": "execute_result"
    }
   ],
   "source": [
    "forecast_dm = model_dm.predict(np.arange(61, 73).reshape((-1, 1)))\n",
    "forecast_dm"
   ]
  },
  {
   "cell_type": "markdown",
   "metadata": {},
   "source": [
    "Seasonalize year 6 forecasts."
   ]
  },
  {
   "cell_type": "code",
   "execution_count": 323,
   "metadata": {},
   "outputs": [
    {
     "data": {
      "text/plain": [
       "array([2435.80908256, 2749.79314409, 3850.3885052 , 4110.34061545,\n",
       "       4411.17436348, 4471.10496229, 4281.45835282, 3634.46029964,\n",
       "       3194.72543798, 3045.55230856, 2303.47436113, 1659.58061347])"
      ]
     },
     "execution_count": 323,
     "metadata": {},
     "output_type": "execute_result"
    }
   ],
   "source": [
    "forecast_dm[0] = forecast_dm[0]*SI.loc['Average']['January']\n",
    "forecast_dm[1] = forecast_dm[1]*SI.loc['Average']['February']\n",
    "forecast_dm[2] = forecast_dm[2]*SI.loc['Average']['March']\n",
    "forecast_dm[3] = forecast_dm[3]*SI.loc['Average']['April']\n",
    "forecast_dm[4] = forecast_dm[4]*SI.loc['Average']['May']\n",
    "forecast_dm[5] = forecast_dm[5]*SI.loc['Average']['June']\n",
    "forecast_dm[6] = forecast_dm[6]*SI.loc['Average']['July']\n",
    "forecast_dm[7] = forecast_dm[7]*SI.loc['Average']['August']\n",
    "forecast_dm[8] = forecast_dm[8]*SI.loc['Average']['September']\n",
    "forecast_dm[9] = forecast_dm[9]*SI.loc['Average']['October']\n",
    "forecast_dm[10] = forecast_dm[10]*SI.loc['Average']['November']\n",
    "forecast_dm[11] = forecast_dm[11]*SI.loc['Average']['December']\n",
    "forecast_dm"
   ]
  },
  {
   "cell_type": "markdown",
   "metadata": {},
   "source": [
    "# Forecast Using Multiple Linear Regression"
   ]
  },
  {
   "cell_type": "markdown",
   "metadata": {},
   "source": [
    "Populate independent variables"
   ]
  },
  {
   "cell_type": "code",
   "execution_count": 324,
   "metadata": {},
   "outputs": [],
   "source": [
    "def Add_Dummy_Vars(array, num_dummy_vars, num_rows):\n",
    "    array = np.pad(array, ((0,0),(0,num_dummy_vars)), mode='constant', constant_values=0)\n",
    "    for counter in range(num_rows):\n",
    "        if counter % (num_dummy_vars + 1) != 0:\n",
    "            array[counter][counter % (num_dummy_vars + 1)] = 1\n",
    "    return array"
   ]
  },
  {
   "cell_type": "code",
   "execution_count": 325,
   "metadata": {},
   "outputs": [
    {
     "data": {
      "text/plain": [
       "array([[ 1,  0,  0,  0,  0,  0,  0,  0,  0,  0,  0,  0],\n",
       "       [ 2,  1,  0,  0,  0,  0,  0,  0,  0,  0,  0,  0],\n",
       "       [ 3,  0,  1,  0,  0,  0,  0,  0,  0,  0,  0,  0],\n",
       "       [ 4,  0,  0,  1,  0,  0,  0,  0,  0,  0,  0,  0],\n",
       "       [ 5,  0,  0,  0,  1,  0,  0,  0,  0,  0,  0,  0],\n",
       "       [ 6,  0,  0,  0,  0,  1,  0,  0,  0,  0,  0,  0],\n",
       "       [ 7,  0,  0,  0,  0,  0,  1,  0,  0,  0,  0,  0],\n",
       "       [ 8,  0,  0,  0,  0,  0,  0,  1,  0,  0,  0,  0],\n",
       "       [ 9,  0,  0,  0,  0,  0,  0,  0,  1,  0,  0,  0],\n",
       "       [10,  0,  0,  0,  0,  0,  0,  0,  0,  1,  0,  0],\n",
       "       [11,  0,  0,  0,  0,  0,  0,  0,  0,  0,  1,  0],\n",
       "       [12,  0,  0,  0,  0,  0,  0,  0,  0,  0,  0,  1],\n",
       "       [13,  0,  0,  0,  0,  0,  0,  0,  0,  0,  0,  0],\n",
       "       [14,  1,  0,  0,  0,  0,  0,  0,  0,  0,  0,  0],\n",
       "       [15,  0,  1,  0,  0,  0,  0,  0,  0,  0,  0,  0],\n",
       "       [16,  0,  0,  1,  0,  0,  0,  0,  0,  0,  0,  0],\n",
       "       [17,  0,  0,  0,  1,  0,  0,  0,  0,  0,  0,  0],\n",
       "       [18,  0,  0,  0,  0,  1,  0,  0,  0,  0,  0,  0],\n",
       "       [19,  0,  0,  0,  0,  0,  1,  0,  0,  0,  0,  0],\n",
       "       [20,  0,  0,  0,  0,  0,  0,  1,  0,  0,  0,  0],\n",
       "       [21,  0,  0,  0,  0,  0,  0,  0,  1,  0,  0,  0],\n",
       "       [22,  0,  0,  0,  0,  0,  0,  0,  0,  1,  0,  0],\n",
       "       [23,  0,  0,  0,  0,  0,  0,  0,  0,  0,  1,  0],\n",
       "       [24,  0,  0,  0,  0,  0,  0,  0,  0,  0,  0,  1],\n",
       "       [25,  0,  0,  0,  0,  0,  0,  0,  0,  0,  0,  0],\n",
       "       [26,  1,  0,  0,  0,  0,  0,  0,  0,  0,  0,  0],\n",
       "       [27,  0,  1,  0,  0,  0,  0,  0,  0,  0,  0,  0],\n",
       "       [28,  0,  0,  1,  0,  0,  0,  0,  0,  0,  0,  0],\n",
       "       [29,  0,  0,  0,  1,  0,  0,  0,  0,  0,  0,  0],\n",
       "       [30,  0,  0,  0,  0,  1,  0,  0,  0,  0,  0,  0],\n",
       "       [31,  0,  0,  0,  0,  0,  1,  0,  0,  0,  0,  0],\n",
       "       [32,  0,  0,  0,  0,  0,  0,  1,  0,  0,  0,  0],\n",
       "       [33,  0,  0,  0,  0,  0,  0,  0,  1,  0,  0,  0],\n",
       "       [34,  0,  0,  0,  0,  0,  0,  0,  0,  1,  0,  0],\n",
       "       [35,  0,  0,  0,  0,  0,  0,  0,  0,  0,  1,  0],\n",
       "       [36,  0,  0,  0,  0,  0,  0,  0,  0,  0,  0,  1],\n",
       "       [37,  0,  0,  0,  0,  0,  0,  0,  0,  0,  0,  0],\n",
       "       [38,  1,  0,  0,  0,  0,  0,  0,  0,  0,  0,  0],\n",
       "       [39,  0,  1,  0,  0,  0,  0,  0,  0,  0,  0,  0],\n",
       "       [40,  0,  0,  1,  0,  0,  0,  0,  0,  0,  0,  0],\n",
       "       [41,  0,  0,  0,  1,  0,  0,  0,  0,  0,  0,  0],\n",
       "       [42,  0,  0,  0,  0,  1,  0,  0,  0,  0,  0,  0],\n",
       "       [43,  0,  0,  0,  0,  0,  1,  0,  0,  0,  0,  0],\n",
       "       [44,  0,  0,  0,  0,  0,  0,  1,  0,  0,  0,  0],\n",
       "       [45,  0,  0,  0,  0,  0,  0,  0,  1,  0,  0,  0],\n",
       "       [46,  0,  0,  0,  0,  0,  0,  0,  0,  1,  0,  0],\n",
       "       [47,  0,  0,  0,  0,  0,  0,  0,  0,  0,  1,  0],\n",
       "       [48,  0,  0,  0,  0,  0,  0,  0,  0,  0,  0,  1],\n",
       "       [49,  0,  0,  0,  0,  0,  0,  0,  0,  0,  0,  0],\n",
       "       [50,  1,  0,  0,  0,  0,  0,  0,  0,  0,  0,  0],\n",
       "       [51,  0,  1,  0,  0,  0,  0,  0,  0,  0,  0,  0],\n",
       "       [52,  0,  0,  1,  0,  0,  0,  0,  0,  0,  0,  0],\n",
       "       [53,  0,  0,  0,  1,  0,  0,  0,  0,  0,  0,  0],\n",
       "       [54,  0,  0,  0,  0,  1,  0,  0,  0,  0,  0,  0],\n",
       "       [55,  0,  0,  0,  0,  0,  1,  0,  0,  0,  0,  0],\n",
       "       [56,  0,  0,  0,  0,  0,  0,  1,  0,  0,  0,  0],\n",
       "       [57,  0,  0,  0,  0,  0,  0,  0,  1,  0,  0,  0],\n",
       "       [58,  0,  0,  0,  0,  0,  0,  0,  0,  1,  0,  0],\n",
       "       [59,  0,  0,  0,  0,  0,  0,  0,  0,  0,  1,  0],\n",
       "       [60,  0,  0,  0,  0,  0,  0,  0,  0,  0,  0,  1]])"
      ]
     },
     "execution_count": 325,
     "metadata": {},
     "output_type": "execute_result"
    }
   ],
   "source": [
    "x = np.arange(1, 61).reshape((-1, 1))\n",
    "x = Add_Dummy_Vars(x, 11, x.size)\n",
    "x"
   ]
  },
  {
   "cell_type": "markdown",
   "metadata": {},
   "source": [
    "Run multiple linear regression."
   ]
  },
  {
   "cell_type": "code",
   "execution_count": 326,
   "metadata": {},
   "outputs": [
    {
     "data": {
      "text/plain": [
       "LinearRegression()"
      ]
     },
     "execution_count": 326,
     "metadata": {},
     "output_type": "execute_result"
    }
   ],
   "source": [
    "model_mlr = LinearRegression().fit(x,y_dm)\n",
    "model_mlr"
   ]
  },
  {
   "cell_type": "markdown",
   "metadata": {},
   "source": [
    "Calculate the forecasts."
   ]
  },
  {
   "cell_type": "code",
   "execution_count": 327,
   "metadata": {},
   "outputs": [
    {
     "data": {
      "text/plain": [
       "array([3342.71298052, 3330.42032263, 3347.99220091, 3359.452927  ,\n",
       "       3352.38542405, 3370.81934963, 3371.46859443, 3362.31126371,\n",
       "       3375.50652321, 3356.7425434 , 3355.60259197, 3351.17297114])"
      ]
     },
     "execution_count": 327,
     "metadata": {},
     "output_type": "execute_result"
    }
   ],
   "source": [
    "x_new = np.arange(61, 73).reshape((-1, 1))\n",
    "x_new = Add_Dummy_Vars(x_new, 11, x_new.size)\n",
    "\n",
    "forecast_mlr = model_mlr.predict(x_new)\n",
    "forecast_mlr"
   ]
  },
  {
   "cell_type": "markdown",
   "metadata": {},
   "source": [
    "# Calculate Forecast Accuracy"
   ]
  },
  {
   "cell_type": "code",
   "execution_count": 328,
   "metadata": {},
   "outputs": [
    {
     "data": {
      "text/plain": [
       "[2102.0, 2135.0, 3511.0, 3367.0, 3533.0, 3630.0, 2905.0, 2809.0]"
      ]
     },
     "execution_count": 328,
     "metadata": {},
     "output_type": "execute_result"
    }
   ],
   "source": [
    "actual_Year6 = [row[t] for t in range(65, 73)]\n",
    "actual_Year6"
   ]
  },
  {
   "cell_type": "code",
   "execution_count": 329,
   "metadata": {},
   "outputs": [
    {
     "name": "stdout",
     "output_type": "stream",
     "text": [
      "MAD_DM: 744.0661656930474\n",
      "MAD_MLR: 508.2829074622438\n"
     ]
    }
   ],
   "source": [
    "deviation_dm = [actual_Year6[t] - forecast_dm[t] for t in range(8)]\n",
    "deviation_mlr = [actual_Year6[t] - forecast_mlr[t] for t in range(8)]\n",
    "\n",
    "MAD_dm = pf.CalculateMeanAbsoluteDeviation(deviation_dm)\n",
    "MAD_mlr = pf.CalculateMeanAbsoluteDeviation(deviation_mlr)\n",
    "print(\"MAD_DM:\",MAD_dm)\n",
    "print(\"MAD_MLR:\",MAD_mlr)"
   ]
  },
  {
   "cell_type": "code",
   "execution_count": null,
   "metadata": {},
   "outputs": [],
   "source": []
  }
 ],
 "metadata": {
  "kernelspec": {
   "display_name": "Python 3 (ipykernel)",
   "language": "python",
   "name": "python3"
  },
  "language_info": {
   "codemirror_mode": {
    "name": "ipython",
    "version": 3
   },
   "file_extension": ".py",
   "mimetype": "text/x-python",
   "name": "python",
   "nbconvert_exporter": "python",
   "pygments_lexer": "ipython3",
   "version": "3.9.13"
  }
 },
 "nbformat": 4,
 "nbformat_minor": 4
}
