{
 "cells": [
  {
   "cell_type": "code",
   "execution_count": 239,
   "metadata": {},
   "outputs": [],
   "source": [
    "import pandas as pd\n",
    "import numpy as np\n",
    "from sklearn.linear_model import LinearRegression\n",
    "import math\n",
    "import matplotlib.pyplot as plt\n",
    "import matplotlib as mpl\n",
    "import PublicFunctions as pf"
   ]
  },
  {
   "cell_type": "markdown",
   "metadata": {},
   "source": [
    "# Read"
   ]
  },
  {
   "cell_type": "markdown",
   "metadata": {},
   "source": [
    "The data was downloaded from Zillow Research (https://www.zillow.com/research/data/ --> Inventory --> New Listings (Raw, All Homes, Montly View)) as the .csv file given here. Column headers represent the last day of the month, which we simply refer to as the month, i.e., column '2018-1-31' is 'January 2018.'"
   ]
  },
  {
   "cell_type": "code",
   "execution_count": 240,
   "metadata": {
    "scrolled": true
   },
   "outputs": [
    {
     "data": {
      "text/html": [
       "<div>\n",
       "<style scoped>\n",
       "    .dataframe tbody tr th:only-of-type {\n",
       "        vertical-align: middle;\n",
       "    }\n",
       "\n",
       "    .dataframe tbody tr th {\n",
       "        vertical-align: top;\n",
       "    }\n",
       "\n",
       "    .dataframe thead th {\n",
       "        text-align: right;\n",
       "    }\n",
       "</style>\n",
       "<table border=\"1\" class=\"dataframe\">\n",
       "  <thead>\n",
       "    <tr style=\"text-align: right;\">\n",
       "      <th></th>\n",
       "      <th>RegionID</th>\n",
       "      <th>SizeRank</th>\n",
       "      <th>RegionName</th>\n",
       "      <th>RegionType</th>\n",
       "      <th>StateName</th>\n",
       "      <th>2018-01-31</th>\n",
       "      <th>2018-02-28</th>\n",
       "      <th>2018-03-31</th>\n",
       "      <th>2018-04-30</th>\n",
       "      <th>2018-05-31</th>\n",
       "      <th>...</th>\n",
       "      <th>2022-11-30</th>\n",
       "      <th>2022-12-31</th>\n",
       "      <th>2023-01-31</th>\n",
       "      <th>2023-02-28</th>\n",
       "      <th>2023-03-31</th>\n",
       "      <th>2023-04-30</th>\n",
       "      <th>2023-05-31</th>\n",
       "      <th>2023-06-30</th>\n",
       "      <th>2023-07-31</th>\n",
       "      <th>2023-08-31</th>\n",
       "    </tr>\n",
       "  </thead>\n",
       "  <tbody>\n",
       "    <tr>\n",
       "      <th>0</th>\n",
       "      <td>102001</td>\n",
       "      <td>0</td>\n",
       "      <td>United States</td>\n",
       "      <td>country</td>\n",
       "      <td>NaN</td>\n",
       "      <td>323256.0</td>\n",
       "      <td>376081.0</td>\n",
       "      <td>476114.0</td>\n",
       "      <td>509438.0</td>\n",
       "      <td>538099.0</td>\n",
       "      <td>...</td>\n",
       "      <td>240504.0</td>\n",
       "      <td>169573.0</td>\n",
       "      <td>235076.0</td>\n",
       "      <td>247763.0</td>\n",
       "      <td>333606.0</td>\n",
       "      <td>332116.0</td>\n",
       "      <td>367751.0</td>\n",
       "      <td>376743.0</td>\n",
       "      <td>335943.0</td>\n",
       "      <td>349327.0</td>\n",
       "    </tr>\n",
       "    <tr>\n",
       "      <th>1</th>\n",
       "      <td>394913</td>\n",
       "      <td>1</td>\n",
       "      <td>New York, NY</td>\n",
       "      <td>msa</td>\n",
       "      <td>NY</td>\n",
       "      <td>14880.0</td>\n",
       "      <td>22651.0</td>\n",
       "      <td>22492.0</td>\n",
       "      <td>25714.0</td>\n",
       "      <td>25627.0</td>\n",
       "      <td>...</td>\n",
       "      <td>9711.0</td>\n",
       "      <td>5829.0</td>\n",
       "      <td>9754.0</td>\n",
       "      <td>10439.0</td>\n",
       "      <td>14598.0</td>\n",
       "      <td>13820.0</td>\n",
       "      <td>14360.0</td>\n",
       "      <td>13639.0</td>\n",
       "      <td>11370.0</td>\n",
       "      <td>11234.0</td>\n",
       "    </tr>\n",
       "    <tr>\n",
       "      <th>2</th>\n",
       "      <td>753899</td>\n",
       "      <td>2</td>\n",
       "      <td>Los Angeles, CA</td>\n",
       "      <td>msa</td>\n",
       "      <td>CA</td>\n",
       "      <td>8136.0</td>\n",
       "      <td>9261.0</td>\n",
       "      <td>10164.0</td>\n",
       "      <td>10597.0</td>\n",
       "      <td>11556.0</td>\n",
       "      <td>...</td>\n",
       "      <td>4806.0</td>\n",
       "      <td>3048.0</td>\n",
       "      <td>4699.0</td>\n",
       "      <td>4988.0</td>\n",
       "      <td>6370.0</td>\n",
       "      <td>6156.0</td>\n",
       "      <td>6831.0</td>\n",
       "      <td>6949.0</td>\n",
       "      <td>6658.0</td>\n",
       "      <td>6434.0</td>\n",
       "    </tr>\n",
       "    <tr>\n",
       "      <th>3</th>\n",
       "      <td>394463</td>\n",
       "      <td>3</td>\n",
       "      <td>Chicago, IL</td>\n",
       "      <td>msa</td>\n",
       "      <td>IL</td>\n",
       "      <td>8645.0</td>\n",
       "      <td>11908.0</td>\n",
       "      <td>17472.0</td>\n",
       "      <td>16696.0</td>\n",
       "      <td>16869.0</td>\n",
       "      <td>...</td>\n",
       "      <td>6271.0</td>\n",
       "      <td>3899.0</td>\n",
       "      <td>6043.0</td>\n",
       "      <td>7047.0</td>\n",
       "      <td>9530.0</td>\n",
       "      <td>9649.0</td>\n",
       "      <td>10865.0</td>\n",
       "      <td>11071.0</td>\n",
       "      <td>9597.0</td>\n",
       "      <td>9942.0</td>\n",
       "    </tr>\n",
       "    <tr>\n",
       "      <th>4</th>\n",
       "      <td>394514</td>\n",
       "      <td>4</td>\n",
       "      <td>Dallas, TX</td>\n",
       "      <td>msa</td>\n",
       "      <td>TX</td>\n",
       "      <td>7389.0</td>\n",
       "      <td>7894.0</td>\n",
       "      <td>10535.0</td>\n",
       "      <td>11797.0</td>\n",
       "      <td>11995.0</td>\n",
       "      <td>...</td>\n",
       "      <td>5459.0</td>\n",
       "      <td>3983.0</td>\n",
       "      <td>5188.0</td>\n",
       "      <td>5291.0</td>\n",
       "      <td>8159.0</td>\n",
       "      <td>8879.0</td>\n",
       "      <td>9467.0</td>\n",
       "      <td>10007.0</td>\n",
       "      <td>8650.0</td>\n",
       "      <td>8211.0</td>\n",
       "    </tr>\n",
       "    <tr>\n",
       "      <th>...</th>\n",
       "      <td>...</td>\n",
       "      <td>...</td>\n",
       "      <td>...</td>\n",
       "      <td>...</td>\n",
       "      <td>...</td>\n",
       "      <td>...</td>\n",
       "      <td>...</td>\n",
       "      <td>...</td>\n",
       "      <td>...</td>\n",
       "      <td>...</td>\n",
       "      <td>...</td>\n",
       "      <td>...</td>\n",
       "      <td>...</td>\n",
       "      <td>...</td>\n",
       "      <td>...</td>\n",
       "      <td>...</td>\n",
       "      <td>...</td>\n",
       "      <td>...</td>\n",
       "      <td>...</td>\n",
       "      <td>...</td>\n",
       "      <td>...</td>\n",
       "    </tr>\n",
       "    <tr>\n",
       "      <th>920</th>\n",
       "      <td>394968</td>\n",
       "      <td>934</td>\n",
       "      <td>Pecos, TX</td>\n",
       "      <td>msa</td>\n",
       "      <td>TX</td>\n",
       "      <td>NaN</td>\n",
       "      <td>NaN</td>\n",
       "      <td>NaN</td>\n",
       "      <td>NaN</td>\n",
       "      <td>NaN</td>\n",
       "      <td>...</td>\n",
       "      <td>NaN</td>\n",
       "      <td>NaN</td>\n",
       "      <td>NaN</td>\n",
       "      <td>NaN</td>\n",
       "      <td>NaN</td>\n",
       "      <td>NaN</td>\n",
       "      <td>10.0</td>\n",
       "      <td>6.0</td>\n",
       "      <td>9.0</td>\n",
       "      <td>5.0</td>\n",
       "    </tr>\n",
       "    <tr>\n",
       "      <th>921</th>\n",
       "      <td>394743</td>\n",
       "      <td>936</td>\n",
       "      <td>Ketchikan, AK</td>\n",
       "      <td>msa</td>\n",
       "      <td>AK</td>\n",
       "      <td>9.0</td>\n",
       "      <td>11.0</td>\n",
       "      <td>17.0</td>\n",
       "      <td>11.0</td>\n",
       "      <td>17.0</td>\n",
       "      <td>...</td>\n",
       "      <td>7.0</td>\n",
       "      <td>8.0</td>\n",
       "      <td>11.0</td>\n",
       "      <td>15.0</td>\n",
       "      <td>25.0</td>\n",
       "      <td>15.0</td>\n",
       "      <td>11.0</td>\n",
       "      <td>11.0</td>\n",
       "      <td>9.0</td>\n",
       "      <td>9.0</td>\n",
       "    </tr>\n",
       "    <tr>\n",
       "      <th>922</th>\n",
       "      <td>753874</td>\n",
       "      <td>937</td>\n",
       "      <td>Craig, CO</td>\n",
       "      <td>msa</td>\n",
       "      <td>CO</td>\n",
       "      <td>NaN</td>\n",
       "      <td>NaN</td>\n",
       "      <td>NaN</td>\n",
       "      <td>NaN</td>\n",
       "      <td>NaN</td>\n",
       "      <td>...</td>\n",
       "      <td>NaN</td>\n",
       "      <td>NaN</td>\n",
       "      <td>7.0</td>\n",
       "      <td>14.0</td>\n",
       "      <td>16.0</td>\n",
       "      <td>30.0</td>\n",
       "      <td>27.0</td>\n",
       "      <td>36.0</td>\n",
       "      <td>24.0</td>\n",
       "      <td>34.0</td>\n",
       "    </tr>\n",
       "    <tr>\n",
       "      <th>923</th>\n",
       "      <td>395188</td>\n",
       "      <td>938</td>\n",
       "      <td>Vernon, TX</td>\n",
       "      <td>msa</td>\n",
       "      <td>TX</td>\n",
       "      <td>NaN</td>\n",
       "      <td>NaN</td>\n",
       "      <td>NaN</td>\n",
       "      <td>NaN</td>\n",
       "      <td>NaN</td>\n",
       "      <td>...</td>\n",
       "      <td>NaN</td>\n",
       "      <td>NaN</td>\n",
       "      <td>14.0</td>\n",
       "      <td>6.0</td>\n",
       "      <td>14.0</td>\n",
       "      <td>10.0</td>\n",
       "      <td>20.0</td>\n",
       "      <td>19.0</td>\n",
       "      <td>12.0</td>\n",
       "      <td>11.0</td>\n",
       "    </tr>\n",
       "    <tr>\n",
       "      <th>924</th>\n",
       "      <td>394767</td>\n",
       "      <td>939</td>\n",
       "      <td>Lamesa, TX</td>\n",
       "      <td>msa</td>\n",
       "      <td>TX</td>\n",
       "      <td>NaN</td>\n",
       "      <td>NaN</td>\n",
       "      <td>NaN</td>\n",
       "      <td>NaN</td>\n",
       "      <td>NaN</td>\n",
       "      <td>...</td>\n",
       "      <td>NaN</td>\n",
       "      <td>NaN</td>\n",
       "      <td>NaN</td>\n",
       "      <td>6.0</td>\n",
       "      <td>7.0</td>\n",
       "      <td>6.0</td>\n",
       "      <td>10.0</td>\n",
       "      <td>13.0</td>\n",
       "      <td>10.0</td>\n",
       "      <td>9.0</td>\n",
       "    </tr>\n",
       "  </tbody>\n",
       "</table>\n",
       "<p>925 rows × 73 columns</p>\n",
       "</div>"
      ],
      "text/plain": [
       "     RegionID  SizeRank       RegionName RegionType StateName  2018-01-31  \\\n",
       "0      102001         0    United States    country       NaN    323256.0   \n",
       "1      394913         1     New York, NY        msa        NY     14880.0   \n",
       "2      753899         2  Los Angeles, CA        msa        CA      8136.0   \n",
       "3      394463         3      Chicago, IL        msa        IL      8645.0   \n",
       "4      394514         4       Dallas, TX        msa        TX      7389.0   \n",
       "..        ...       ...              ...        ...       ...         ...   \n",
       "920    394968       934        Pecos, TX        msa        TX         NaN   \n",
       "921    394743       936    Ketchikan, AK        msa        AK         9.0   \n",
       "922    753874       937        Craig, CO        msa        CO         NaN   \n",
       "923    395188       938       Vernon, TX        msa        TX         NaN   \n",
       "924    394767       939       Lamesa, TX        msa        TX         NaN   \n",
       "\n",
       "     2018-02-28  2018-03-31  2018-04-30  2018-05-31  ...  2022-11-30  \\\n",
       "0      376081.0    476114.0    509438.0    538099.0  ...    240504.0   \n",
       "1       22651.0     22492.0     25714.0     25627.0  ...      9711.0   \n",
       "2        9261.0     10164.0     10597.0     11556.0  ...      4806.0   \n",
       "3       11908.0     17472.0     16696.0     16869.0  ...      6271.0   \n",
       "4        7894.0     10535.0     11797.0     11995.0  ...      5459.0   \n",
       "..          ...         ...         ...         ...  ...         ...   \n",
       "920         NaN         NaN         NaN         NaN  ...         NaN   \n",
       "921        11.0        17.0        11.0        17.0  ...         7.0   \n",
       "922         NaN         NaN         NaN         NaN  ...         NaN   \n",
       "923         NaN         NaN         NaN         NaN  ...         NaN   \n",
       "924         NaN         NaN         NaN         NaN  ...         NaN   \n",
       "\n",
       "     2022-12-31  2023-01-31  2023-02-28  2023-03-31  2023-04-30  2023-05-31  \\\n",
       "0      169573.0    235076.0    247763.0    333606.0    332116.0    367751.0   \n",
       "1        5829.0      9754.0     10439.0     14598.0     13820.0     14360.0   \n",
       "2        3048.0      4699.0      4988.0      6370.0      6156.0      6831.0   \n",
       "3        3899.0      6043.0      7047.0      9530.0      9649.0     10865.0   \n",
       "4        3983.0      5188.0      5291.0      8159.0      8879.0      9467.0   \n",
       "..          ...         ...         ...         ...         ...         ...   \n",
       "920         NaN         NaN         NaN         NaN         NaN        10.0   \n",
       "921         8.0        11.0        15.0        25.0        15.0        11.0   \n",
       "922         NaN         7.0        14.0        16.0        30.0        27.0   \n",
       "923         NaN        14.0         6.0        14.0        10.0        20.0   \n",
       "924         NaN         NaN         6.0         7.0         6.0        10.0   \n",
       "\n",
       "     2023-06-30  2023-07-31  2023-08-31  \n",
       "0      376743.0    335943.0    349327.0  \n",
       "1       13639.0     11370.0     11234.0  \n",
       "2        6949.0      6658.0      6434.0  \n",
       "3       11071.0      9597.0      9942.0  \n",
       "4       10007.0      8650.0      8211.0  \n",
       "..          ...         ...         ...  \n",
       "920         6.0         9.0         5.0  \n",
       "921        11.0         9.0         9.0  \n",
       "922        36.0        24.0        34.0  \n",
       "923        19.0        12.0        11.0  \n",
       "924        13.0        10.0         9.0  \n",
       "\n",
       "[925 rows x 73 columns]"
      ]
     },
     "execution_count": 240,
     "metadata": {},
     "output_type": "execute_result"
    }
   ],
   "source": [
    "df = pd.read_csv('Metro_new_listings_uc_sfrcondo_month.csv')\n",
    "df"
   ]
  },
  {
   "cell_type": "markdown",
   "metadata": {},
   "source": [
    "# Isolate the data for the team"
   ]
  },
  {
   "cell_type": "code",
   "execution_count": 241,
   "metadata": {},
   "outputs": [
    {
     "data": {
      "text/plain": [
       "RegionID          394355\n",
       "SizeRank              29\n",
       "RegionName    Austin, TX\n",
       "RegionType           msa\n",
       "StateName             TX\n",
       "                 ...    \n",
       "2023-04-30        3367.0\n",
       "2023-05-31        3533.0\n",
       "2023-06-30        3630.0\n",
       "2023-07-31        2905.0\n",
       "2023-08-31        2809.0\n",
       "Name: 29, Length: 73, dtype: object"
      ]
     },
     "execution_count": 241,
     "metadata": {},
     "output_type": "execute_result"
    }
   ],
   "source": [
    "team = 29\n",
    "row = df.iloc[team]\n",
    "row"
   ]
  },
  {
   "cell_type": "markdown",
   "metadata": {},
   "source": [
    "Calculate the monthly averages for years 1 thru 4. "
   ]
  },
  {
   "cell_type": "code",
   "execution_count": 242,
   "metadata": {},
   "outputs": [
    {
     "data": {
      "text/plain": [
       "2913.75"
      ]
     },
     "execution_count": 242,
     "metadata": {},
     "output_type": "execute_result"
    }
   ],
   "source": [
    "year = \"2018\"\n",
    "y1columns = [column_name for column_name in row.index if year in column_name]\n",
    "y1avg = row[y1columns].mean()\n",
    "y1avg"
   ]
  },
  {
   "cell_type": "code",
   "execution_count": 243,
   "metadata": {},
   "outputs": [
    {
     "data": {
      "text/plain": [
       "2947.9166666666665"
      ]
     },
     "execution_count": 243,
     "metadata": {},
     "output_type": "execute_result"
    }
   ],
   "source": [
    "year = \"2019\"\n",
    "y2columns = [column_name for column_name in row.index if year in column_name]\n",
    "y2avg = row[y2columns].mean()\n",
    "y2avg"
   ]
  },
  {
   "cell_type": "code",
   "execution_count": 244,
   "metadata": {},
   "outputs": [
    {
     "data": {
      "text/plain": [
       "2942.75"
      ]
     },
     "execution_count": 244,
     "metadata": {},
     "output_type": "execute_result"
    }
   ],
   "source": [
    "year = \"2020\"\n",
    "y3columns = [column_name for column_name in row.index if year in column_name]\n",
    "y3avg = row[y3columns].mean()\n",
    "y3avg"
   ]
  },
  {
   "cell_type": "code",
   "execution_count": 245,
   "metadata": {},
   "outputs": [
    {
     "data": {
      "text/plain": [
       "3394.0833333333335"
      ]
     },
     "execution_count": 245,
     "metadata": {},
     "output_type": "execute_result"
    }
   ],
   "source": [
    "year = \"2021\"\n",
    "y4columns = [column_name for column_name in row.index if year in column_name]\n",
    "y4avg = row[y4columns].mean()\n",
    "y4avg"
   ]
  },
  {
   "cell_type": "code",
   "execution_count": 246,
   "metadata": {},
   "outputs": [
    {
     "data": {
      "text/plain": [
       "3238.5"
      ]
     },
     "execution_count": 246,
     "metadata": {},
     "output_type": "execute_result"
    }
   ],
   "source": [
    "year = \"2022\"\n",
    "y5columns = [column_name for column_name in row.index if year in column_name]\n",
    "y5avg = row[y5columns].mean()\n",
    "y5avg"
   ]
  },
  {
   "cell_type": "markdown",
   "metadata": {},
   "source": [
    "# Forecast Using the Decomposition Method"
   ]
  },
  {
   "cell_type": "markdown",
   "metadata": {},
   "source": [
    "Calculate the seasonal index for each season each year, and then the average (over the two years) for each season."
   ]
  },
  {
   "cell_type": "code",
   "execution_count": 247,
   "metadata": {},
   "outputs": [
    {
     "data": {
      "text/html": [
       "<div>\n",
       "<style scoped>\n",
       "    .dataframe tbody tr th:only-of-type {\n",
       "        vertical-align: middle;\n",
       "    }\n",
       "\n",
       "    .dataframe tbody tr th {\n",
       "        vertical-align: top;\n",
       "    }\n",
       "\n",
       "    .dataframe thead th {\n",
       "        text-align: right;\n",
       "    }\n",
       "</style>\n",
       "<table border=\"1\" class=\"dataframe\">\n",
       "  <thead>\n",
       "    <tr style=\"text-align: right;\">\n",
       "      <th></th>\n",
       "      <th>January</th>\n",
       "      <th>February</th>\n",
       "      <th>March</th>\n",
       "      <th>April</th>\n",
       "      <th>May</th>\n",
       "      <th>June</th>\n",
       "      <th>July</th>\n",
       "      <th>August</th>\n",
       "      <th>September</th>\n",
       "      <th>October</th>\n",
       "      <th>November</th>\n",
       "      <th>December</th>\n",
       "    </tr>\n",
       "  </thead>\n",
       "  <tbody>\n",
       "    <tr>\n",
       "      <th>Year 1</th>\n",
       "      <td>1.620</td>\n",
       "      <td>0.500</td>\n",
       "      <td>0.640</td>\n",
       "      <td>1.500</td>\n",
       "      <td>0.880</td>\n",
       "      <td>0.140</td>\n",
       "      <td>0.960</td>\n",
       "      <td>0.640</td>\n",
       "      <td>1.160</td>\n",
       "      <td>0.740</td>\n",
       "      <td>1.540</td>\n",
       "      <td>0.380</td>\n",
       "    </tr>\n",
       "    <tr>\n",
       "      <th>Year 2</th>\n",
       "      <td>0.440</td>\n",
       "      <td>0.420</td>\n",
       "      <td>1.540</td>\n",
       "      <td>0.860</td>\n",
       "      <td>0.860</td>\n",
       "      <td>0.100</td>\n",
       "      <td>1.060</td>\n",
       "      <td>1.060</td>\n",
       "      <td>0.320</td>\n",
       "      <td>1.480</td>\n",
       "      <td>1.620</td>\n",
       "      <td>0.940</td>\n",
       "    </tr>\n",
       "    <tr>\n",
       "      <th>Year 3</th>\n",
       "      <td>0.360</td>\n",
       "      <td>1.820</td>\n",
       "      <td>0.540</td>\n",
       "      <td>1.620</td>\n",
       "      <td>1.120</td>\n",
       "      <td>0.960</td>\n",
       "      <td>0.720</td>\n",
       "      <td>1.540</td>\n",
       "      <td>0.840</td>\n",
       "      <td>1.280</td>\n",
       "      <td>1.200</td>\n",
       "      <td>1.440</td>\n",
       "    </tr>\n",
       "    <tr>\n",
       "      <th>Year 4</th>\n",
       "      <td>0.420</td>\n",
       "      <td>0.200</td>\n",
       "      <td>1.360</td>\n",
       "      <td>0.660</td>\n",
       "      <td>0.280</td>\n",
       "      <td>0.820</td>\n",
       "      <td>1.300</td>\n",
       "      <td>0.300</td>\n",
       "      <td>1.680</td>\n",
       "      <td>0.520</td>\n",
       "      <td>0.180</td>\n",
       "      <td>0.040</td>\n",
       "    </tr>\n",
       "    <tr>\n",
       "      <th>Year 5</th>\n",
       "      <td>1.400</td>\n",
       "      <td>1.480</td>\n",
       "      <td>0.460</td>\n",
       "      <td>1.800</td>\n",
       "      <td>1.780</td>\n",
       "      <td>0.320</td>\n",
       "      <td>1.680</td>\n",
       "      <td>0.720</td>\n",
       "      <td>0.640</td>\n",
       "      <td>1.360</td>\n",
       "      <td>0.220</td>\n",
       "      <td>0.260</td>\n",
       "    </tr>\n",
       "    <tr>\n",
       "      <th>Average</th>\n",
       "      <td>0.848</td>\n",
       "      <td>0.884</td>\n",
       "      <td>0.908</td>\n",
       "      <td>1.288</td>\n",
       "      <td>0.984</td>\n",
       "      <td>0.468</td>\n",
       "      <td>1.144</td>\n",
       "      <td>0.852</td>\n",
       "      <td>0.928</td>\n",
       "      <td>1.076</td>\n",
       "      <td>0.952</td>\n",
       "      <td>0.612</td>\n",
       "    </tr>\n",
       "  </tbody>\n",
       "</table>\n",
       "</div>"
      ],
      "text/plain": [
       "         January  February  March  April    May   June   July  August  \\\n",
       "Year 1     1.620     0.500  0.640  1.500  0.880  0.140  0.960   0.640   \n",
       "Year 2     0.440     0.420  1.540  0.860  0.860  0.100  1.060   1.060   \n",
       "Year 3     0.360     1.820  0.540  1.620  1.120  0.960  0.720   1.540   \n",
       "Year 4     0.420     0.200  1.360  0.660  0.280  0.820  1.300   0.300   \n",
       "Year 5     1.400     1.480  0.460  1.800  1.780  0.320  1.680   0.720   \n",
       "Average    0.848     0.884  0.908  1.288  0.984  0.468  1.144   0.852   \n",
       "\n",
       "         September  October  November  December  \n",
       "Year 1       1.160    0.740     1.540     0.380  \n",
       "Year 2       0.320    1.480     1.620     0.940  \n",
       "Year 3       0.840    1.280     1.200     1.440  \n",
       "Year 4       1.680    0.520     0.180     0.040  \n",
       "Year 5       0.640    1.360     0.220     0.260  \n",
       "Average      0.928    1.076     0.952     0.612  "
      ]
     },
     "execution_count": 247,
     "metadata": {},
     "output_type": "execute_result"
    }
   ],
   "source": [
    "values = [np.random.randint(1,101,12)/50,\n",
    "         np.random.randint(1,101,12)/50,\n",
    "         np.random.randint(1,101,12)/50,\n",
    "         np.random.randint(1,101,12)/50,\n",
    "         np.random.randint(1,101,12)/50]#Must change this, it is curently just random\n",
    "SI = pd.DataFrame(values, columns = ['January', 'February', 'March', 'April', 'May', 'June', 'July', 'August', 'September', 'October', 'November', 'December'], index = ['Year 1', 'Year 2', 'Year 3', 'Year 4', 'Year 5'])\n",
    "SI.loc['Average'] = SI.mean()\n",
    "SI"
   ]
  },
  {
   "cell_type": "markdown",
   "metadata": {},
   "source": [
    "Deseasonalize the data."
   ]
  },
  {
   "cell_type": "code",
   "execution_count": 248,
   "metadata": {},
   "outputs": [
    {
     "name": "stdout",
     "output_type": "stream",
     "text": [
      "y =  [2417.452830188679 3196.8325791855204 3935.022026431718 3090.838509316771\n",
      " 4144.30894308943 7912.393162393163 2919.58041958042 3666.666666666667\n",
      " 2490.301724137931 2375.46468401487 2136.5546218487398 2269.6078431372553\n",
      " 2791.2735849056603 2941.176470588235 3867.84140969163 2924.689440993789\n",
      " 4220.528455284552 7779.91452991453 2958.916083916084 3573.9436619718313\n",
      " 2796.336206896552 2561.338289962825 2175.4201680672268 2423.2026143790854\n",
      " 2995.283018867924 3021.493212669683 3882.15859030837 2323.7577639751557\n",
      " 3565.040650406503 7557.6923076923085 3393.3566433566434 3813.380281690141\n",
      " 3113.146551724138 2614.3122676579924 2167.016806722689 2684.6405228758176\n",
      " 2702.830188679245 2451.3574660633485 3990.088105726872 3271.739130434783\n",
      " 4028.4552845528447 9500.0 4157.342657342658 4649.0610328638495\n",
      " 4008.6206896551726 3086.4312267657992 2653.361344537815 2841.503267973857\n",
      " 2431.6037735849054 2744.3438914027147 3963.656387665198 3190.993788819876\n",
      " 4741.869918699186 11532.051282051283 3883.741258741259 3929.5774647887324\n",
      " 3468.7500000000005 2309.4795539033457 1907.563025210084 2109.477124183007]\n"
     ]
    }
   ],
   "source": [
    "y_dm = np.array(row[5:65])\n",
    "y_dm[0] = y_dm[0]/SI.loc['Average']['January']\n",
    "y_dm[1] = y_dm[1]/SI.loc['Average']['February']\n",
    "y_dm[2] = y_dm[2]/SI.loc['Average']['March']\n",
    "y_dm[3] = y_dm[3]/SI.loc['Average']['April']\n",
    "y_dm[4] = y_dm[4]/SI.loc['Average']['May']\n",
    "y_dm[5] = y_dm[5]/SI.loc['Average']['June']\n",
    "y_dm[6] = y_dm[6]/SI.loc['Average']['July']\n",
    "y_dm[7] = y_dm[7]/SI.loc['Average']['August']\n",
    "y_dm[8] = y_dm[8]/SI.loc['Average']['September']\n",
    "y_dm[9] = y_dm[9]/SI.loc['Average']['October']\n",
    "y_dm[10] = y_dm[10]/SI.loc['Average']['November']\n",
    "y_dm[11] = y_dm[11]/SI.loc['Average']['December']\n",
    "y_dm[12] = y_dm[12]/SI.loc['Average']['January']\n",
    "y_dm[13] = y_dm[13]/SI.loc['Average']['February']\n",
    "y_dm[14] = y_dm[14]/SI.loc['Average']['March']\n",
    "y_dm[15] = y_dm[15]/SI.loc['Average']['April']\n",
    "y_dm[16] = y_dm[16]/SI.loc['Average']['May']\n",
    "y_dm[17] = y_dm[17]/SI.loc['Average']['June']\n",
    "y_dm[18] = y_dm[18]/SI.loc['Average']['July']\n",
    "y_dm[19] = y_dm[19]/SI.loc['Average']['August']\n",
    "y_dm[20] = y_dm[20]/SI.loc['Average']['September']\n",
    "y_dm[21] = y_dm[21]/SI.loc['Average']['October']\n",
    "y_dm[22] = y_dm[22]/SI.loc['Average']['November']\n",
    "y_dm[23] = y_dm[23]/SI.loc['Average']['December']\n",
    "y_dm[24] = y_dm[24]/SI.loc['Average']['January']\n",
    "y_dm[25] = y_dm[25]/SI.loc['Average']['February']\n",
    "y_dm[26] = y_dm[26]/SI.loc['Average']['March']\n",
    "y_dm[27] = y_dm[27]/SI.loc['Average']['April']\n",
    "y_dm[28] = y_dm[28]/SI.loc['Average']['May']\n",
    "y_dm[29] = y_dm[29]/SI.loc['Average']['June']\n",
    "y_dm[30] = y_dm[30]/SI.loc['Average']['July']\n",
    "y_dm[31] = y_dm[31]/SI.loc['Average']['August']\n",
    "y_dm[32] = y_dm[32]/SI.loc['Average']['September']\n",
    "y_dm[33] = y_dm[33]/SI.loc['Average']['October']\n",
    "y_dm[34] = y_dm[34]/SI.loc['Average']['November']\n",
    "y_dm[35] = y_dm[35]/SI.loc['Average']['December']\n",
    "y_dm[36] = y_dm[36]/SI.loc['Average']['January']\n",
    "y_dm[37] = y_dm[37]/SI.loc['Average']['February']\n",
    "y_dm[38] = y_dm[38]/SI.loc['Average']['March']\n",
    "y_dm[39] = y_dm[39]/SI.loc['Average']['April']\n",
    "y_dm[40] = y_dm[40]/SI.loc['Average']['May']\n",
    "y_dm[41] = y_dm[41]/SI.loc['Average']['June']\n",
    "y_dm[42] = y_dm[42]/SI.loc['Average']['July']\n",
    "y_dm[43] = y_dm[43]/SI.loc['Average']['August']\n",
    "y_dm[44] = y_dm[44]/SI.loc['Average']['September']\n",
    "y_dm[45] = y_dm[45]/SI.loc['Average']['October']\n",
    "y_dm[46] = y_dm[46]/SI.loc['Average']['November']\n",
    "y_dm[47] = y_dm[47]/SI.loc['Average']['December']\n",
    "y_dm[48] = y_dm[48]/SI.loc['Average']['January']\n",
    "y_dm[49] = y_dm[49]/SI.loc['Average']['February']\n",
    "y_dm[50] = y_dm[50]/SI.loc['Average']['March']\n",
    "y_dm[51] = y_dm[51]/SI.loc['Average']['April']\n",
    "y_dm[52] = y_dm[52]/SI.loc['Average']['May']\n",
    "y_dm[53] = y_dm[53]/SI.loc['Average']['June']\n",
    "y_dm[54] = y_dm[54]/SI.loc['Average']['July']\n",
    "y_dm[55] = y_dm[55]/SI.loc['Average']['August']\n",
    "y_dm[56] = y_dm[56]/SI.loc['Average']['September']\n",
    "y_dm[57] = y_dm[57]/SI.loc['Average']['October']\n",
    "y_dm[58] = y_dm[58]/SI.loc['Average']['November']\n",
    "y_dm[59] = y_dm[59]/SI.loc['Average']['December']\n",
    "print(\"y = \",y_dm)"
   ]
  },
  {
   "cell_type": "markdown",
   "metadata": {},
   "source": [
    "Perform simple linear regression to extract trend."
   ]
  },
  {
   "cell_type": "code",
   "execution_count": 249,
   "metadata": {},
   "outputs": [
    {
     "name": "stdout",
     "output_type": "stream",
     "text": [
      "Coefficient of determination: 0.007083687372791525\n",
      "Intercept: 3340.830276357102\n",
      "Slope: 8.636592801491936\n"
     ]
    }
   ],
   "source": [
    "model_dm = LinearRegression()\n",
    "x = np.arange(1, 61).reshape((-1, 1))\n",
    "model_dm.fit(x,y_dm)\n",
    "r_sq_dm = model_dm.score(x, y_dm)\n",
    "print('Coefficient of determination:', r_sq_dm)\n",
    "intercept_dm = model_dm.intercept_\n",
    "print('Intercept:', intercept_dm)\n",
    "slope_dm = model_dm.coef_[0]\n",
    "print('Slope:', slope_dm)"
   ]
  },
  {
   "cell_type": "markdown",
   "metadata": {},
   "source": [
    "Extend the trend to year 6. "
   ]
  },
  {
   "cell_type": "code",
   "execution_count": 250,
   "metadata": {},
   "outputs": [
    {
     "data": {
      "text/plain": [
       "[3867.66243724811,\n",
       " 3876.299030049602,\n",
       " 3884.9356228510937,\n",
       " 3893.572215652586,\n",
       " 3902.208808454078,\n",
       " 3910.8454012555694,\n",
       " 3919.4819940570615,\n",
       " 3928.1185868585535,\n",
       " 3936.7551796600455,\n",
       " 3945.3917724615376,\n",
       " 3954.028365263029,\n",
       " 3962.664958064521]"
      ]
     },
     "execution_count": 250,
     "metadata": {},
     "output_type": "execute_result"
    }
   ],
   "source": [
    "#The forecast calculation is explicitly stated here but you can use sklearn's Predict function, as well (https://scikit-learn.org/stable/modules/generated/sklearn.linear_model.LinearRegression.html).\n",
    "forecast_dm = []\n",
    "for t in range(61,73):\n",
    "    forecast_dm.append(intercept_dm + t*slope_dm)\n",
    "forecast_dm"
   ]
  },
  {
   "cell_type": "markdown",
   "metadata": {},
   "source": [
    "Seasonalize year 6 forecasts."
   ]
  },
  {
   "cell_type": "code",
   "execution_count": 251,
   "metadata": {},
   "outputs": [
    {
     "data": {
      "text/plain": [
       "[3279.7777467863975,\n",
       " 3426.6483425638485,\n",
       " 3527.5215455487933,\n",
       " 5014.92101376053,\n",
       " 3839.7734675188135,\n",
       " 1830.2756477876064,\n",
       " 4483.8874012012775,\n",
       " 3346.7570360034874,\n",
       " 3653.308806724522,\n",
       " 4245.2415471686145,\n",
       " 3764.2350037304036,\n",
       " 2425.1509543354864]"
      ]
     },
     "execution_count": 251,
     "metadata": {},
     "output_type": "execute_result"
    }
   ],
   "source": [
    "forecast_dm[0] = forecast_dm[0]*SI.loc['Average']['January']\n",
    "forecast_dm[1] = forecast_dm[1]*SI.loc['Average']['February']\n",
    "forecast_dm[2] = forecast_dm[2]*SI.loc['Average']['March']\n",
    "forecast_dm[3] = forecast_dm[3]*SI.loc['Average']['April']\n",
    "forecast_dm[4] = forecast_dm[4]*SI.loc['Average']['May']\n",
    "forecast_dm[5] = forecast_dm[5]*SI.loc['Average']['June']\n",
    "forecast_dm[6] = forecast_dm[6]*SI.loc['Average']['July']\n",
    "forecast_dm[7] = forecast_dm[7]*SI.loc['Average']['August']\n",
    "forecast_dm[8] = forecast_dm[8]*SI.loc['Average']['September']\n",
    "forecast_dm[9] = forecast_dm[9]*SI.loc['Average']['October']\n",
    "forecast_dm[10] = forecast_dm[10]*SI.loc['Average']['November']\n",
    "forecast_dm[11] = forecast_dm[11]*SI.loc['Average']['December']\n",
    "forecast_dm"
   ]
  },
  {
   "cell_type": "markdown",
   "metadata": {},
   "source": [
    "# Forecast Using Multiple Linear Regression"
   ]
  },
  {
   "cell_type": "markdown",
   "metadata": {},
   "source": [
    "Populate independent variables"
   ]
  },
  {
   "cell_type": "code",
   "execution_count": 252,
   "metadata": {},
   "outputs": [
    {
     "data": {
      "text/plain": [
       "array([[ 1],\n",
       "       [ 2],\n",
       "       [ 3],\n",
       "       [ 4],\n",
       "       [ 5],\n",
       "       [ 6],\n",
       "       [ 7],\n",
       "       [ 8],\n",
       "       [ 9],\n",
       "       [10],\n",
       "       [11],\n",
       "       [12],\n",
       "       [13],\n",
       "       [14],\n",
       "       [15],\n",
       "       [16],\n",
       "       [17],\n",
       "       [18],\n",
       "       [19],\n",
       "       [20],\n",
       "       [21],\n",
       "       [22],\n",
       "       [23],\n",
       "       [24],\n",
       "       [25],\n",
       "       [26],\n",
       "       [27],\n",
       "       [28],\n",
       "       [29],\n",
       "       [30],\n",
       "       [31],\n",
       "       [32],\n",
       "       [33],\n",
       "       [34],\n",
       "       [35],\n",
       "       [36],\n",
       "       [37],\n",
       "       [38],\n",
       "       [39],\n",
       "       [40],\n",
       "       [41],\n",
       "       [42],\n",
       "       [43],\n",
       "       [44],\n",
       "       [45],\n",
       "       [46],\n",
       "       [47],\n",
       "       [48],\n",
       "       [49],\n",
       "       [50],\n",
       "       [51],\n",
       "       [52],\n",
       "       [53],\n",
       "       [54],\n",
       "       [55],\n",
       "       [56],\n",
       "       [57],\n",
       "       [58],\n",
       "       [59],\n",
       "       [60]])"
      ]
     },
     "execution_count": 252,
     "metadata": {},
     "output_type": "execute_result"
    }
   ],
   "source": [
    "x = np.arange(1, 61).reshape((-1, 1))#Must change this to add the dummy binary variables.\n",
    "x"
   ]
  },
  {
   "cell_type": "markdown",
   "metadata": {},
   "source": [
    "Run multiple linear regression."
   ]
  },
  {
   "cell_type": "code",
   "execution_count": 253,
   "metadata": {},
   "outputs": [
    {
     "data": {
      "text/html": [
       "<style>#sk-container-id-13 {color: black;}#sk-container-id-13 pre{padding: 0;}#sk-container-id-13 div.sk-toggleable {background-color: white;}#sk-container-id-13 label.sk-toggleable__label {cursor: pointer;display: block;width: 100%;margin-bottom: 0;padding: 0.3em;box-sizing: border-box;text-align: center;}#sk-container-id-13 label.sk-toggleable__label-arrow:before {content: \"▸\";float: left;margin-right: 0.25em;color: #696969;}#sk-container-id-13 label.sk-toggleable__label-arrow:hover:before {color: black;}#sk-container-id-13 div.sk-estimator:hover label.sk-toggleable__label-arrow:before {color: black;}#sk-container-id-13 div.sk-toggleable__content {max-height: 0;max-width: 0;overflow: hidden;text-align: left;background-color: #f0f8ff;}#sk-container-id-13 div.sk-toggleable__content pre {margin: 0.2em;color: black;border-radius: 0.25em;background-color: #f0f8ff;}#sk-container-id-13 input.sk-toggleable__control:checked~div.sk-toggleable__content {max-height: 200px;max-width: 100%;overflow: auto;}#sk-container-id-13 input.sk-toggleable__control:checked~label.sk-toggleable__label-arrow:before {content: \"▾\";}#sk-container-id-13 div.sk-estimator input.sk-toggleable__control:checked~label.sk-toggleable__label {background-color: #d4ebff;}#sk-container-id-13 div.sk-label input.sk-toggleable__control:checked~label.sk-toggleable__label {background-color: #d4ebff;}#sk-container-id-13 input.sk-hidden--visually {border: 0;clip: rect(1px 1px 1px 1px);clip: rect(1px, 1px, 1px, 1px);height: 1px;margin: -1px;overflow: hidden;padding: 0;position: absolute;width: 1px;}#sk-container-id-13 div.sk-estimator {font-family: monospace;background-color: #f0f8ff;border: 1px dotted black;border-radius: 0.25em;box-sizing: border-box;margin-bottom: 0.5em;}#sk-container-id-13 div.sk-estimator:hover {background-color: #d4ebff;}#sk-container-id-13 div.sk-parallel-item::after {content: \"\";width: 100%;border-bottom: 1px solid gray;flex-grow: 1;}#sk-container-id-13 div.sk-label:hover label.sk-toggleable__label {background-color: #d4ebff;}#sk-container-id-13 div.sk-serial::before {content: \"\";position: absolute;border-left: 1px solid gray;box-sizing: border-box;top: 0;bottom: 0;left: 50%;z-index: 0;}#sk-container-id-13 div.sk-serial {display: flex;flex-direction: column;align-items: center;background-color: white;padding-right: 0.2em;padding-left: 0.2em;position: relative;}#sk-container-id-13 div.sk-item {position: relative;z-index: 1;}#sk-container-id-13 div.sk-parallel {display: flex;align-items: stretch;justify-content: center;background-color: white;position: relative;}#sk-container-id-13 div.sk-item::before, #sk-container-id-13 div.sk-parallel-item::before {content: \"\";position: absolute;border-left: 1px solid gray;box-sizing: border-box;top: 0;bottom: 0;left: 50%;z-index: -1;}#sk-container-id-13 div.sk-parallel-item {display: flex;flex-direction: column;z-index: 1;position: relative;background-color: white;}#sk-container-id-13 div.sk-parallel-item:first-child::after {align-self: flex-end;width: 50%;}#sk-container-id-13 div.sk-parallel-item:last-child::after {align-self: flex-start;width: 50%;}#sk-container-id-13 div.sk-parallel-item:only-child::after {width: 0;}#sk-container-id-13 div.sk-dashed-wrapped {border: 1px dashed gray;margin: 0 0.4em 0.5em 0.4em;box-sizing: border-box;padding-bottom: 0.4em;background-color: white;}#sk-container-id-13 div.sk-label label {font-family: monospace;font-weight: bold;display: inline-block;line-height: 1.2em;}#sk-container-id-13 div.sk-label-container {text-align: center;}#sk-container-id-13 div.sk-container {/* jupyter's `normalize.less` sets `[hidden] { display: none; }` but bootstrap.min.css set `[hidden] { display: none !important; }` so we also need the `!important` here to be able to override the default hidden behavior on the sphinx rendered scikit-learn.org. See: https://github.com/scikit-learn/scikit-learn/issues/21755 */display: inline-block !important;position: relative;}#sk-container-id-13 div.sk-text-repr-fallback {display: none;}</style><div id=\"sk-container-id-13\" class=\"sk-top-container\"><div class=\"sk-text-repr-fallback\"><pre>LinearRegression()</pre><b>In a Jupyter environment, please rerun this cell to show the HTML representation or trust the notebook. <br />On GitHub, the HTML representation is unable to render, please try loading this page with nbviewer.org.</b></div><div class=\"sk-container\" hidden><div class=\"sk-item\"><div class=\"sk-estimator sk-toggleable\"><input class=\"sk-toggleable__control sk-hidden--visually\" id=\"sk-estimator-id-13\" type=\"checkbox\" checked><label for=\"sk-estimator-id-13\" class=\"sk-toggleable__label sk-toggleable__label-arrow\">LinearRegression</label><div class=\"sk-toggleable__content\"><pre>LinearRegression()</pre></div></div></div></div></div>"
      ],
      "text/plain": [
       "LinearRegression()"
      ]
     },
     "execution_count": 253,
     "metadata": {},
     "output_type": "execute_result"
    }
   ],
   "source": [
    "model_mlr = LinearRegression()\n",
    "model_mlr.fit(x,y_dm) #Must change this. Basically, you need to extend the simple linear regression model to take multiple independent variables. You are referred to https://scikit-learn.org/stable/modules/generated/sklearn.linear_model.LinearRegression.html for the documentation of the package we use for this purpose. Make sure you use the correct y values, too."
   ]
  },
  {
   "cell_type": "markdown",
   "metadata": {},
   "source": [
    "Calculate the forecasts."
   ]
  },
  {
   "cell_type": "code",
   "execution_count": 254,
   "metadata": {},
   "outputs": [
    {
     "data": {
      "text/plain": [
       "[]"
      ]
     },
     "execution_count": 254,
     "metadata": {},
     "output_type": "execute_result"
    }
   ],
   "source": [
    "forecast_mlr = []\n",
    "#Must add this. Decide first whether you want to calculate the forecasts explicitly or via sklearn's Predict function (https://scikit-learn.org/stable/modules/generated/sklearn.linear_model.LinearRegression.html) and then execute.\n",
    "forecast_mlr"
   ]
  },
  {
   "cell_type": "markdown",
   "metadata": {},
   "source": [
    "# Calculate Forecast Accuracy"
   ]
  },
  {
   "cell_type": "code",
   "execution_count": 255,
   "metadata": {},
   "outputs": [
    {
     "data": {
      "text/plain": [
       "[2102.0, 2135.0, 3511.0, 3367.0, 3533.0, 3630.0, 2905.0, 2809.0]"
      ]
     },
     "execution_count": 255,
     "metadata": {},
     "output_type": "execute_result"
    }
   ],
   "source": [
    "actual_Year6 = []\n",
    "for t in range(65,73):\n",
    "    actual_Year6.append(row[t])\n",
    "actual_Year6"
   ]
  },
  {
   "cell_type": "code",
   "execution_count": 256,
   "metadata": {},
   "outputs": [
    {
     "name": "stdout",
     "output_type": "stream",
     "text": [
      "MAD_DM: 0.6899379002750634\n",
      "MAD_MLR: 0.9905805950214466\n"
     ]
    }
   ],
   "source": [
    "deviation_dm = []\n",
    "deviation_mlr = []\n",
    "for t in range(8):\n",
    "    deviation_dm.append(np.random.normal(0,1,1)) #Must change this, it is curently just random\n",
    "    deviation_mlr.append(np.random.normal(0,1,1)) #Must change this, it is curently just random\n",
    "MAD_dm = pf.CalculateMeanAbsoluteDeviation(deviation_dm)\n",
    "MAD_mlr = pf.CalculateMeanAbsoluteDeviation(deviation_mlr)\n",
    "print(\"MAD_DM:\",MAD_dm)\n",
    "print(\"MAD_MLR:\",MAD_mlr)"
   ]
  },
  {
   "cell_type": "code",
   "execution_count": null,
   "metadata": {},
   "outputs": [],
   "source": []
  }
 ],
 "metadata": {
  "kernelspec": {
   "display_name": "Python 3 (ipykernel)",
   "language": "python",
   "name": "python3"
  },
  "language_info": {
   "codemirror_mode": {
    "name": "ipython",
    "version": 3
   },
   "file_extension": ".py",
   "mimetype": "text/x-python",
   "name": "python",
   "nbconvert_exporter": "python",
   "pygments_lexer": "ipython3",
   "version": "3.11.5"
  }
 },
 "nbformat": 4,
 "nbformat_minor": 4
}
