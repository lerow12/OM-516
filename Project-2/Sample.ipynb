{
 "cells": [
  {
   "cell_type": "code",
   "execution_count": 355,
   "metadata": {},
   "outputs": [],
   "source": [
    "import pandas as pd\n",
    "import numpy as np\n",
    "from sklearn.linear_model import LinearRegression\n",
    "import math\n",
    "import matplotlib.pyplot as plt\n",
    "import matplotlib as mpl\n",
    "import PublicFunctions as pf"
   ]
  },
  {
   "cell_type": "markdown",
   "metadata": {},
   "source": [
    "# Read"
   ]
  },
  {
   "cell_type": "markdown",
   "metadata": {},
   "source": [
    "The data was downloaded from Zillow Research (https://www.zillow.com/research/data/ --> Inventory --> New Listings (Raw, All Homes, Montly View)) as the .csv file given here. Column headers represent the last day of the month, which we simply refer to as the month, i.e., column '2018-1-31' is 'January 2018.'"
   ]
  },
  {
   "cell_type": "code",
   "execution_count": 356,
   "metadata": {
    "scrolled": true
   },
   "outputs": [
    {
     "data": {
      "text/html": [
       "<div>\n",
       "<style scoped>\n",
       "    .dataframe tbody tr th:only-of-type {\n",
       "        vertical-align: middle;\n",
       "    }\n",
       "\n",
       "    .dataframe tbody tr th {\n",
       "        vertical-align: top;\n",
       "    }\n",
       "\n",
       "    .dataframe thead th {\n",
       "        text-align: right;\n",
       "    }\n",
       "</style>\n",
       "<table border=\"1\" class=\"dataframe\">\n",
       "  <thead>\n",
       "    <tr style=\"text-align: right;\">\n",
       "      <th></th>\n",
       "      <th>RegionID</th>\n",
       "      <th>SizeRank</th>\n",
       "      <th>RegionName</th>\n",
       "      <th>RegionType</th>\n",
       "      <th>StateName</th>\n",
       "      <th>2018-01-31</th>\n",
       "      <th>2018-02-28</th>\n",
       "      <th>2018-03-31</th>\n",
       "      <th>2018-04-30</th>\n",
       "      <th>2018-05-31</th>\n",
       "      <th>...</th>\n",
       "      <th>2022-11-30</th>\n",
       "      <th>2022-12-31</th>\n",
       "      <th>2023-01-31</th>\n",
       "      <th>2023-02-28</th>\n",
       "      <th>2023-03-31</th>\n",
       "      <th>2023-04-30</th>\n",
       "      <th>2023-05-31</th>\n",
       "      <th>2023-06-30</th>\n",
       "      <th>2023-07-31</th>\n",
       "      <th>2023-08-31</th>\n",
       "    </tr>\n",
       "  </thead>\n",
       "  <tbody>\n",
       "    <tr>\n",
       "      <th>0</th>\n",
       "      <td>102001</td>\n",
       "      <td>0</td>\n",
       "      <td>United States</td>\n",
       "      <td>country</td>\n",
       "      <td>NaN</td>\n",
       "      <td>323256.0</td>\n",
       "      <td>376081.0</td>\n",
       "      <td>476114.0</td>\n",
       "      <td>509438.0</td>\n",
       "      <td>538099.0</td>\n",
       "      <td>...</td>\n",
       "      <td>240504.0</td>\n",
       "      <td>169573.0</td>\n",
       "      <td>235076.0</td>\n",
       "      <td>247763.0</td>\n",
       "      <td>333606.0</td>\n",
       "      <td>332116.0</td>\n",
       "      <td>367751.0</td>\n",
       "      <td>376743.0</td>\n",
       "      <td>335943.0</td>\n",
       "      <td>349327.0</td>\n",
       "    </tr>\n",
       "    <tr>\n",
       "      <th>1</th>\n",
       "      <td>394913</td>\n",
       "      <td>1</td>\n",
       "      <td>New York, NY</td>\n",
       "      <td>msa</td>\n",
       "      <td>NY</td>\n",
       "      <td>14880.0</td>\n",
       "      <td>22651.0</td>\n",
       "      <td>22492.0</td>\n",
       "      <td>25714.0</td>\n",
       "      <td>25627.0</td>\n",
       "      <td>...</td>\n",
       "      <td>9711.0</td>\n",
       "      <td>5829.0</td>\n",
       "      <td>9754.0</td>\n",
       "      <td>10439.0</td>\n",
       "      <td>14598.0</td>\n",
       "      <td>13820.0</td>\n",
       "      <td>14360.0</td>\n",
       "      <td>13639.0</td>\n",
       "      <td>11370.0</td>\n",
       "      <td>11234.0</td>\n",
       "    </tr>\n",
       "    <tr>\n",
       "      <th>2</th>\n",
       "      <td>753899</td>\n",
       "      <td>2</td>\n",
       "      <td>Los Angeles, CA</td>\n",
       "      <td>msa</td>\n",
       "      <td>CA</td>\n",
       "      <td>8136.0</td>\n",
       "      <td>9261.0</td>\n",
       "      <td>10164.0</td>\n",
       "      <td>10597.0</td>\n",
       "      <td>11556.0</td>\n",
       "      <td>...</td>\n",
       "      <td>4806.0</td>\n",
       "      <td>3048.0</td>\n",
       "      <td>4699.0</td>\n",
       "      <td>4988.0</td>\n",
       "      <td>6370.0</td>\n",
       "      <td>6156.0</td>\n",
       "      <td>6831.0</td>\n",
       "      <td>6949.0</td>\n",
       "      <td>6658.0</td>\n",
       "      <td>6434.0</td>\n",
       "    </tr>\n",
       "    <tr>\n",
       "      <th>3</th>\n",
       "      <td>394463</td>\n",
       "      <td>3</td>\n",
       "      <td>Chicago, IL</td>\n",
       "      <td>msa</td>\n",
       "      <td>IL</td>\n",
       "      <td>8645.0</td>\n",
       "      <td>11908.0</td>\n",
       "      <td>17472.0</td>\n",
       "      <td>16696.0</td>\n",
       "      <td>16869.0</td>\n",
       "      <td>...</td>\n",
       "      <td>6271.0</td>\n",
       "      <td>3899.0</td>\n",
       "      <td>6043.0</td>\n",
       "      <td>7047.0</td>\n",
       "      <td>9530.0</td>\n",
       "      <td>9649.0</td>\n",
       "      <td>10865.0</td>\n",
       "      <td>11071.0</td>\n",
       "      <td>9597.0</td>\n",
       "      <td>9942.0</td>\n",
       "    </tr>\n",
       "    <tr>\n",
       "      <th>4</th>\n",
       "      <td>394514</td>\n",
       "      <td>4</td>\n",
       "      <td>Dallas, TX</td>\n",
       "      <td>msa</td>\n",
       "      <td>TX</td>\n",
       "      <td>7389.0</td>\n",
       "      <td>7894.0</td>\n",
       "      <td>10535.0</td>\n",
       "      <td>11797.0</td>\n",
       "      <td>11995.0</td>\n",
       "      <td>...</td>\n",
       "      <td>5459.0</td>\n",
       "      <td>3983.0</td>\n",
       "      <td>5188.0</td>\n",
       "      <td>5291.0</td>\n",
       "      <td>8159.0</td>\n",
       "      <td>8879.0</td>\n",
       "      <td>9467.0</td>\n",
       "      <td>10007.0</td>\n",
       "      <td>8650.0</td>\n",
       "      <td>8211.0</td>\n",
       "    </tr>\n",
       "    <tr>\n",
       "      <th>...</th>\n",
       "      <td>...</td>\n",
       "      <td>...</td>\n",
       "      <td>...</td>\n",
       "      <td>...</td>\n",
       "      <td>...</td>\n",
       "      <td>...</td>\n",
       "      <td>...</td>\n",
       "      <td>...</td>\n",
       "      <td>...</td>\n",
       "      <td>...</td>\n",
       "      <td>...</td>\n",
       "      <td>...</td>\n",
       "      <td>...</td>\n",
       "      <td>...</td>\n",
       "      <td>...</td>\n",
       "      <td>...</td>\n",
       "      <td>...</td>\n",
       "      <td>...</td>\n",
       "      <td>...</td>\n",
       "      <td>...</td>\n",
       "      <td>...</td>\n",
       "    </tr>\n",
       "    <tr>\n",
       "      <th>920</th>\n",
       "      <td>394968</td>\n",
       "      <td>934</td>\n",
       "      <td>Pecos, TX</td>\n",
       "      <td>msa</td>\n",
       "      <td>TX</td>\n",
       "      <td>NaN</td>\n",
       "      <td>NaN</td>\n",
       "      <td>NaN</td>\n",
       "      <td>NaN</td>\n",
       "      <td>NaN</td>\n",
       "      <td>...</td>\n",
       "      <td>NaN</td>\n",
       "      <td>NaN</td>\n",
       "      <td>NaN</td>\n",
       "      <td>NaN</td>\n",
       "      <td>NaN</td>\n",
       "      <td>NaN</td>\n",
       "      <td>10.0</td>\n",
       "      <td>6.0</td>\n",
       "      <td>9.0</td>\n",
       "      <td>5.0</td>\n",
       "    </tr>\n",
       "    <tr>\n",
       "      <th>921</th>\n",
       "      <td>394743</td>\n",
       "      <td>936</td>\n",
       "      <td>Ketchikan, AK</td>\n",
       "      <td>msa</td>\n",
       "      <td>AK</td>\n",
       "      <td>9.0</td>\n",
       "      <td>11.0</td>\n",
       "      <td>17.0</td>\n",
       "      <td>11.0</td>\n",
       "      <td>17.0</td>\n",
       "      <td>...</td>\n",
       "      <td>7.0</td>\n",
       "      <td>8.0</td>\n",
       "      <td>11.0</td>\n",
       "      <td>15.0</td>\n",
       "      <td>25.0</td>\n",
       "      <td>15.0</td>\n",
       "      <td>11.0</td>\n",
       "      <td>11.0</td>\n",
       "      <td>9.0</td>\n",
       "      <td>9.0</td>\n",
       "    </tr>\n",
       "    <tr>\n",
       "      <th>922</th>\n",
       "      <td>753874</td>\n",
       "      <td>937</td>\n",
       "      <td>Craig, CO</td>\n",
       "      <td>msa</td>\n",
       "      <td>CO</td>\n",
       "      <td>NaN</td>\n",
       "      <td>NaN</td>\n",
       "      <td>NaN</td>\n",
       "      <td>NaN</td>\n",
       "      <td>NaN</td>\n",
       "      <td>...</td>\n",
       "      <td>NaN</td>\n",
       "      <td>NaN</td>\n",
       "      <td>7.0</td>\n",
       "      <td>14.0</td>\n",
       "      <td>16.0</td>\n",
       "      <td>30.0</td>\n",
       "      <td>27.0</td>\n",
       "      <td>36.0</td>\n",
       "      <td>24.0</td>\n",
       "      <td>34.0</td>\n",
       "    </tr>\n",
       "    <tr>\n",
       "      <th>923</th>\n",
       "      <td>395188</td>\n",
       "      <td>938</td>\n",
       "      <td>Vernon, TX</td>\n",
       "      <td>msa</td>\n",
       "      <td>TX</td>\n",
       "      <td>NaN</td>\n",
       "      <td>NaN</td>\n",
       "      <td>NaN</td>\n",
       "      <td>NaN</td>\n",
       "      <td>NaN</td>\n",
       "      <td>...</td>\n",
       "      <td>NaN</td>\n",
       "      <td>NaN</td>\n",
       "      <td>14.0</td>\n",
       "      <td>6.0</td>\n",
       "      <td>14.0</td>\n",
       "      <td>10.0</td>\n",
       "      <td>20.0</td>\n",
       "      <td>19.0</td>\n",
       "      <td>12.0</td>\n",
       "      <td>11.0</td>\n",
       "    </tr>\n",
       "    <tr>\n",
       "      <th>924</th>\n",
       "      <td>394767</td>\n",
       "      <td>939</td>\n",
       "      <td>Lamesa, TX</td>\n",
       "      <td>msa</td>\n",
       "      <td>TX</td>\n",
       "      <td>NaN</td>\n",
       "      <td>NaN</td>\n",
       "      <td>NaN</td>\n",
       "      <td>NaN</td>\n",
       "      <td>NaN</td>\n",
       "      <td>...</td>\n",
       "      <td>NaN</td>\n",
       "      <td>NaN</td>\n",
       "      <td>NaN</td>\n",
       "      <td>6.0</td>\n",
       "      <td>7.0</td>\n",
       "      <td>6.0</td>\n",
       "      <td>10.0</td>\n",
       "      <td>13.0</td>\n",
       "      <td>10.0</td>\n",
       "      <td>9.0</td>\n",
       "    </tr>\n",
       "  </tbody>\n",
       "</table>\n",
       "<p>925 rows × 73 columns</p>\n",
       "</div>"
      ],
      "text/plain": [
       "     RegionID  SizeRank       RegionName RegionType StateName  2018-01-31  \\\n",
       "0      102001         0    United States    country       NaN    323256.0   \n",
       "1      394913         1     New York, NY        msa        NY     14880.0   \n",
       "2      753899         2  Los Angeles, CA        msa        CA      8136.0   \n",
       "3      394463         3      Chicago, IL        msa        IL      8645.0   \n",
       "4      394514         4       Dallas, TX        msa        TX      7389.0   \n",
       "..        ...       ...              ...        ...       ...         ...   \n",
       "920    394968       934        Pecos, TX        msa        TX         NaN   \n",
       "921    394743       936    Ketchikan, AK        msa        AK         9.0   \n",
       "922    753874       937        Craig, CO        msa        CO         NaN   \n",
       "923    395188       938       Vernon, TX        msa        TX         NaN   \n",
       "924    394767       939       Lamesa, TX        msa        TX         NaN   \n",
       "\n",
       "     2018-02-28  2018-03-31  2018-04-30  2018-05-31  ...  2022-11-30  \\\n",
       "0      376081.0    476114.0    509438.0    538099.0  ...    240504.0   \n",
       "1       22651.0     22492.0     25714.0     25627.0  ...      9711.0   \n",
       "2        9261.0     10164.0     10597.0     11556.0  ...      4806.0   \n",
       "3       11908.0     17472.0     16696.0     16869.0  ...      6271.0   \n",
       "4        7894.0     10535.0     11797.0     11995.0  ...      5459.0   \n",
       "..          ...         ...         ...         ...  ...         ...   \n",
       "920         NaN         NaN         NaN         NaN  ...         NaN   \n",
       "921        11.0        17.0        11.0        17.0  ...         7.0   \n",
       "922         NaN         NaN         NaN         NaN  ...         NaN   \n",
       "923         NaN         NaN         NaN         NaN  ...         NaN   \n",
       "924         NaN         NaN         NaN         NaN  ...         NaN   \n",
       "\n",
       "     2022-12-31  2023-01-31  2023-02-28  2023-03-31  2023-04-30  2023-05-31  \\\n",
       "0      169573.0    235076.0    247763.0    333606.0    332116.0    367751.0   \n",
       "1        5829.0      9754.0     10439.0     14598.0     13820.0     14360.0   \n",
       "2        3048.0      4699.0      4988.0      6370.0      6156.0      6831.0   \n",
       "3        3899.0      6043.0      7047.0      9530.0      9649.0     10865.0   \n",
       "4        3983.0      5188.0      5291.0      8159.0      8879.0      9467.0   \n",
       "..          ...         ...         ...         ...         ...         ...   \n",
       "920         NaN         NaN         NaN         NaN         NaN        10.0   \n",
       "921         8.0        11.0        15.0        25.0        15.0        11.0   \n",
       "922         NaN         7.0        14.0        16.0        30.0        27.0   \n",
       "923         NaN        14.0         6.0        14.0        10.0        20.0   \n",
       "924         NaN         NaN         6.0         7.0         6.0        10.0   \n",
       "\n",
       "     2023-06-30  2023-07-31  2023-08-31  \n",
       "0      376743.0    335943.0    349327.0  \n",
       "1       13639.0     11370.0     11234.0  \n",
       "2        6949.0      6658.0      6434.0  \n",
       "3       11071.0      9597.0      9942.0  \n",
       "4       10007.0      8650.0      8211.0  \n",
       "..          ...         ...         ...  \n",
       "920         6.0         9.0         5.0  \n",
       "921        11.0         9.0         9.0  \n",
       "922        36.0        24.0        34.0  \n",
       "923        19.0        12.0        11.0  \n",
       "924        13.0        10.0         9.0  \n",
       "\n",
       "[925 rows x 73 columns]"
      ]
     },
     "execution_count": 356,
     "metadata": {},
     "output_type": "execute_result"
    }
   ],
   "source": [
    "df = pd.read_csv('Metro_new_listings_uc_sfrcondo_month.csv')\n",
    "df"
   ]
  },
  {
   "cell_type": "markdown",
   "metadata": {},
   "source": [
    "# Isolate the data for the team"
   ]
  },
  {
   "cell_type": "code",
   "execution_count": 357,
   "metadata": {},
   "outputs": [
    {
     "data": {
      "text/plain": [
       "RegionID          394355\n",
       "SizeRank              29\n",
       "RegionName    Austin, TX\n",
       "RegionType           msa\n",
       "StateName             TX\n",
       "                 ...    \n",
       "2023-04-30        3367.0\n",
       "2023-05-31        3533.0\n",
       "2023-06-30        3630.0\n",
       "2023-07-31        2905.0\n",
       "2023-08-31        2809.0\n",
       "Name: 29, Length: 73, dtype: object"
      ]
     },
     "execution_count": 357,
     "metadata": {},
     "output_type": "execute_result"
    }
   ],
   "source": [
    "team = 29\n",
    "row = df.iloc[team]\n",
    "row"
   ]
  },
  {
   "cell_type": "markdown",
   "metadata": {},
   "source": [
    "Calculate the monthly averages for years 1 thru 4. "
   ]
  },
  {
   "cell_type": "code",
   "execution_count": 358,
   "metadata": {},
   "outputs": [
    {
     "data": {
      "text/plain": [
       "2913.75"
      ]
     },
     "execution_count": 358,
     "metadata": {},
     "output_type": "execute_result"
    }
   ],
   "source": [
    "year = \"2018\"\n",
    "y1columns = [column_name for column_name in row.index if year in column_name]\n",
    "y1avg = row[y1columns].mean()\n",
    "y1avg"
   ]
  },
  {
   "cell_type": "code",
   "execution_count": 359,
   "metadata": {},
   "outputs": [
    {
     "data": {
      "text/plain": [
       "2947.9166666666665"
      ]
     },
     "execution_count": 359,
     "metadata": {},
     "output_type": "execute_result"
    }
   ],
   "source": [
    "year = \"2019\"\n",
    "y2columns = [column_name for column_name in row.index if year in column_name]\n",
    "y2avg = row[y2columns].mean()\n",
    "y2avg"
   ]
  },
  {
   "cell_type": "code",
   "execution_count": 360,
   "metadata": {},
   "outputs": [
    {
     "data": {
      "text/plain": [
       "2942.75"
      ]
     },
     "execution_count": 360,
     "metadata": {},
     "output_type": "execute_result"
    }
   ],
   "source": [
    "year = \"2020\"\n",
    "y3columns = [column_name for column_name in row.index if year in column_name]\n",
    "y3avg = row[y3columns].mean()\n",
    "y3avg"
   ]
  },
  {
   "cell_type": "code",
   "execution_count": 361,
   "metadata": {},
   "outputs": [
    {
     "data": {
      "text/plain": [
       "3394.0833333333335"
      ]
     },
     "execution_count": 361,
     "metadata": {},
     "output_type": "execute_result"
    }
   ],
   "source": [
    "year = \"2021\"\n",
    "y4columns = [column_name for column_name in row.index if year in column_name]\n",
    "y4avg = row[y4columns].mean()\n",
    "y4avg"
   ]
  },
  {
   "cell_type": "code",
   "execution_count": 362,
   "metadata": {},
   "outputs": [
    {
     "data": {
      "text/plain": [
       "3238.5"
      ]
     },
     "execution_count": 362,
     "metadata": {},
     "output_type": "execute_result"
    }
   ],
   "source": [
    "year = \"2022\"\n",
    "y5columns = [column_name for column_name in row.index if year in column_name]\n",
    "y5avg = row[y5columns].mean()\n",
    "y5avg"
   ]
  },
  {
   "cell_type": "markdown",
   "metadata": {},
   "source": [
    "# Forecast Using the Decomposition Method"
   ]
  },
  {
   "cell_type": "markdown",
   "metadata": {},
   "source": [
    "Calculate the seasonal index for each season each year, and then the average (over the two years) for each season."
   ]
  },
  {
   "cell_type": "code",
   "execution_count": 363,
   "metadata": {},
   "outputs": [
    {
     "data": {
      "text/html": [
       "<div>\n",
       "<style scoped>\n",
       "    .dataframe tbody tr th:only-of-type {\n",
       "        vertical-align: middle;\n",
       "    }\n",
       "\n",
       "    .dataframe tbody tr th {\n",
       "        vertical-align: top;\n",
       "    }\n",
       "\n",
       "    .dataframe thead th {\n",
       "        text-align: right;\n",
       "    }\n",
       "</style>\n",
       "<table border=\"1\" class=\"dataframe\">\n",
       "  <thead>\n",
       "    <tr style=\"text-align: right;\">\n",
       "      <th></th>\n",
       "      <th>January</th>\n",
       "      <th>February</th>\n",
       "      <th>March</th>\n",
       "      <th>April</th>\n",
       "      <th>May</th>\n",
       "      <th>June</th>\n",
       "      <th>July</th>\n",
       "      <th>August</th>\n",
       "      <th>September</th>\n",
       "      <th>October</th>\n",
       "      <th>November</th>\n",
       "      <th>December</th>\n",
       "    </tr>\n",
       "  </thead>\n",
       "  <tbody>\n",
       "    <tr>\n",
       "      <th>Year 1</th>\n",
       "      <td>0.703561</td>\n",
       "      <td>0.969884</td>\n",
       "      <td>1.226255</td>\n",
       "      <td>1.366281</td>\n",
       "      <td>1.399571</td>\n",
       "      <td>1.270871</td>\n",
       "      <td>1.146289</td>\n",
       "      <td>1.072158</td>\n",
       "      <td>0.793136</td>\n",
       "      <td>0.877220</td>\n",
       "      <td>0.698069</td>\n",
       "      <td>0.476705</td>\n",
       "    </tr>\n",
       "    <tr>\n",
       "      <th>Year 2</th>\n",
       "      <td>0.802940</td>\n",
       "      <td>0.881979</td>\n",
       "      <td>1.191350</td>\n",
       "      <td>1.277852</td>\n",
       "      <td>1.408792</td>\n",
       "      <td>1.235110</td>\n",
       "      <td>1.148269</td>\n",
       "      <td>1.032933</td>\n",
       "      <td>0.880283</td>\n",
       "      <td>0.934898</td>\n",
       "      <td>0.702530</td>\n",
       "      <td>0.503067</td>\n",
       "    </tr>\n",
       "    <tr>\n",
       "      <th>Year 3</th>\n",
       "      <td>0.863138</td>\n",
       "      <td>0.907654</td>\n",
       "      <td>1.197859</td>\n",
       "      <td>1.017076</td>\n",
       "      <td>1.192082</td>\n",
       "      <td>1.201937</td>\n",
       "      <td>1.319174</td>\n",
       "      <td>1.104069</td>\n",
       "      <td>0.981735</td>\n",
       "      <td>0.955909</td>\n",
       "      <td>0.701045</td>\n",
       "      <td>0.558321</td>\n",
       "    </tr>\n",
       "    <tr>\n",
       "      <th>Year 4</th>\n",
       "      <td>0.675293</td>\n",
       "      <td>0.638464</td>\n",
       "      <td>1.067446</td>\n",
       "      <td>1.241572</td>\n",
       "      <td>1.167915</td>\n",
       "      <td>1.309927</td>\n",
       "      <td>1.401262</td>\n",
       "      <td>1.167031</td>\n",
       "      <td>1.096025</td>\n",
       "      <td>0.978467</td>\n",
       "      <td>0.744236</td>\n",
       "      <td>0.512362</td>\n",
       "    </tr>\n",
       "    <tr>\n",
       "      <th>Year 5</th>\n",
       "      <td>0.636715</td>\n",
       "      <td>0.749112</td>\n",
       "      <td>1.111317</td>\n",
       "      <td>1.269106</td>\n",
       "      <td>1.440790</td>\n",
       "      <td>1.666512</td>\n",
       "      <td>1.371931</td>\n",
       "      <td>1.033812</td>\n",
       "      <td>0.993979</td>\n",
       "      <td>0.767331</td>\n",
       "      <td>0.560753</td>\n",
       "      <td>0.398641</td>\n",
       "    </tr>\n",
       "    <tr>\n",
       "      <th>Average</th>\n",
       "      <td>0.736329</td>\n",
       "      <td>0.829419</td>\n",
       "      <td>1.158845</td>\n",
       "      <td>1.234377</td>\n",
       "      <td>1.321830</td>\n",
       "      <td>1.336871</td>\n",
       "      <td>1.277385</td>\n",
       "      <td>1.082001</td>\n",
       "      <td>0.949031</td>\n",
       "      <td>0.902765</td>\n",
       "      <td>0.681327</td>\n",
       "      <td>0.489819</td>\n",
       "    </tr>\n",
       "  </tbody>\n",
       "</table>\n",
       "</div>"
      ],
      "text/plain": [
       "          January  February     March     April       May      June      July  \\\n",
       "Year 1   0.703561  0.969884  1.226255  1.366281  1.399571  1.270871  1.146289   \n",
       "Year 2   0.802940  0.881979  1.191350  1.277852  1.408792  1.235110  1.148269   \n",
       "Year 3   0.863138  0.907654  1.197859  1.017076  1.192082  1.201937  1.319174   \n",
       "Year 4   0.675293  0.638464  1.067446  1.241572  1.167915  1.309927  1.401262   \n",
       "Year 5   0.636715  0.749112  1.111317  1.269106  1.440790  1.666512  1.371931   \n",
       "Average  0.736329  0.829419  1.158845  1.234377  1.321830  1.336871  1.277385   \n",
       "\n",
       "           August  September   October  November  December  \n",
       "Year 1   1.072158   0.793136  0.877220  0.698069  0.476705  \n",
       "Year 2   1.032933   0.880283  0.934898  0.702530  0.503067  \n",
       "Year 3   1.104069   0.981735  0.955909  0.701045  0.558321  \n",
       "Year 4   1.167031   1.096025  0.978467  0.744236  0.512362  \n",
       "Year 5   1.033812   0.993979  0.767331  0.560753  0.398641  \n",
       "Average  1.082001   0.949031  0.902765  0.681327  0.489819  "
      ]
     },
     "execution_count": 363,
     "metadata": {},
     "output_type": "execute_result"
    }
   ],
   "source": [
    "values = [row[y1columns].values/y1avg,\n",
    "         row[y2columns].values/y2avg,\n",
    "         row[y3columns].values/y3avg,\n",
    "         row[y4columns].values/y4avg,\n",
    "         row[y5columns].values/y5avg]\n",
    "SI = pd.DataFrame(values, columns = ['January', 'February', 'March', 'April', 'May', 'June', 'July', 'August', 'September', 'October', 'November', 'December'], index = ['Year 1', 'Year 2', 'Year 3', 'Year 4', 'Year 5'])\n",
    "SI.loc['Average'] = SI.mean()\n",
    "SI"
   ]
  },
  {
   "cell_type": "markdown",
   "metadata": {},
   "source": [
    "Deseasonalize the data."
   ]
  },
  {
   "cell_type": "code",
   "execution_count": 364,
   "metadata": {},
   "outputs": [
    {
     "name": "stdout",
     "output_type": "stream",
     "text": [
      "y =  [2784.0806865684945 3407.205461810885 3083.2415346368616 3225.107950032159\n",
      " 3085.116846496077 2769.900248059269 2614.716625388807 2887.244309478417\n",
      " 2435.114324232996 2831.3021278917217 2985.351344917954 2835.7387513902545\n",
      " 3214.594626881769 3134.7254779576438 3030.6029302112115 3051.741182559945\n",
      " 3141.856366723445 2723.52330628782 2649.9448433955426 2814.231409206716\n",
      " 2734.3667985221223 3052.843765441935 3039.6571461775234\n",
      " 3027.6461974886593 3449.543875065354 3220.327596778795 3041.820993449465\n",
      " 2424.7043693660517 2653.8964927680818 2645.729726542164\n",
      " 3039.0209400477092 3002.771050414653 3044.1563317650907\n",
      " 3115.9831321437455 3027.91535131059 3354.29716957105 3112.7380163975554\n",
      " 2612.6731195131592 3126.387931707067 3413.8670940556435 2998.872775750478\n",
      " 3325.6755341267917 3723.2312186674153 3660.811366787455\n",
      " 3919.7859308294005 3678.6988915212864 3707.471729234391\n",
      " 3550.2877528204845 2800.377744245968 2924.940003663555 3105.6776611133687\n",
      " 3329.6140855644744 3529.95468507864 4037.037979685626 3478.1993911983445\n",
      " 3094.2682292361524 3391.8792772418924 2752.654846561396 2665.387434794004\n",
      " 2635.66503098979]\n"
     ]
    }
   ],
   "source": [
    "y_dm = np.array(row[5:65])\n",
    "y_dm[0] = y_dm[0]/SI.loc['Average']['January']\n",
    "y_dm[1] = y_dm[1]/SI.loc['Average']['February']\n",
    "y_dm[2] = y_dm[2]/SI.loc['Average']['March']\n",
    "y_dm[3] = y_dm[3]/SI.loc['Average']['April']\n",
    "y_dm[4] = y_dm[4]/SI.loc['Average']['May']\n",
    "y_dm[5] = y_dm[5]/SI.loc['Average']['June']\n",
    "y_dm[6] = y_dm[6]/SI.loc['Average']['July']\n",
    "y_dm[7] = y_dm[7]/SI.loc['Average']['August']\n",
    "y_dm[8] = y_dm[8]/SI.loc['Average']['September']\n",
    "y_dm[9] = y_dm[9]/SI.loc['Average']['October']\n",
    "y_dm[10] = y_dm[10]/SI.loc['Average']['November']\n",
    "y_dm[11] = y_dm[11]/SI.loc['Average']['December']\n",
    "y_dm[12] = y_dm[12]/SI.loc['Average']['January']\n",
    "y_dm[13] = y_dm[13]/SI.loc['Average']['February']\n",
    "y_dm[14] = y_dm[14]/SI.loc['Average']['March']\n",
    "y_dm[15] = y_dm[15]/SI.loc['Average']['April']\n",
    "y_dm[16] = y_dm[16]/SI.loc['Average']['May']\n",
    "y_dm[17] = y_dm[17]/SI.loc['Average']['June']\n",
    "y_dm[18] = y_dm[18]/SI.loc['Average']['July']\n",
    "y_dm[19] = y_dm[19]/SI.loc['Average']['August']\n",
    "y_dm[20] = y_dm[20]/SI.loc['Average']['September']\n",
    "y_dm[21] = y_dm[21]/SI.loc['Average']['October']\n",
    "y_dm[22] = y_dm[22]/SI.loc['Average']['November']\n",
    "y_dm[23] = y_dm[23]/SI.loc['Average']['December']\n",
    "y_dm[24] = y_dm[24]/SI.loc['Average']['January']\n",
    "y_dm[25] = y_dm[25]/SI.loc['Average']['February']\n",
    "y_dm[26] = y_dm[26]/SI.loc['Average']['March']\n",
    "y_dm[27] = y_dm[27]/SI.loc['Average']['April']\n",
    "y_dm[28] = y_dm[28]/SI.loc['Average']['May']\n",
    "y_dm[29] = y_dm[29]/SI.loc['Average']['June']\n",
    "y_dm[30] = y_dm[30]/SI.loc['Average']['July']\n",
    "y_dm[31] = y_dm[31]/SI.loc['Average']['August']\n",
    "y_dm[32] = y_dm[32]/SI.loc['Average']['September']\n",
    "y_dm[33] = y_dm[33]/SI.loc['Average']['October']\n",
    "y_dm[34] = y_dm[34]/SI.loc['Average']['November']\n",
    "y_dm[35] = y_dm[35]/SI.loc['Average']['December']\n",
    "y_dm[36] = y_dm[36]/SI.loc['Average']['January']\n",
    "y_dm[37] = y_dm[37]/SI.loc['Average']['February']\n",
    "y_dm[38] = y_dm[38]/SI.loc['Average']['March']\n",
    "y_dm[39] = y_dm[39]/SI.loc['Average']['April']\n",
    "y_dm[40] = y_dm[40]/SI.loc['Average']['May']\n",
    "y_dm[41] = y_dm[41]/SI.loc['Average']['June']\n",
    "y_dm[42] = y_dm[42]/SI.loc['Average']['July']\n",
    "y_dm[43] = y_dm[43]/SI.loc['Average']['August']\n",
    "y_dm[44] = y_dm[44]/SI.loc['Average']['September']\n",
    "y_dm[45] = y_dm[45]/SI.loc['Average']['October']\n",
    "y_dm[46] = y_dm[46]/SI.loc['Average']['November']\n",
    "y_dm[47] = y_dm[47]/SI.loc['Average']['December']\n",
    "y_dm[48] = y_dm[48]/SI.loc['Average']['January']\n",
    "y_dm[49] = y_dm[49]/SI.loc['Average']['February']\n",
    "y_dm[50] = y_dm[50]/SI.loc['Average']['March']\n",
    "y_dm[51] = y_dm[51]/SI.loc['Average']['April']\n",
    "y_dm[52] = y_dm[52]/SI.loc['Average']['May']\n",
    "y_dm[53] = y_dm[53]/SI.loc['Average']['June']\n",
    "y_dm[54] = y_dm[54]/SI.loc['Average']['July']\n",
    "y_dm[55] = y_dm[55]/SI.loc['Average']['August']\n",
    "y_dm[56] = y_dm[56]/SI.loc['Average']['September']\n",
    "y_dm[57] = y_dm[57]/SI.loc['Average']['October']\n",
    "y_dm[58] = y_dm[58]/SI.loc['Average']['November']\n",
    "y_dm[59] = y_dm[59]/SI.loc['Average']['December']\n",
    "print(\"y = \",y_dm)"
   ]
  },
  {
   "cell_type": "markdown",
   "metadata": {},
   "source": [
    "Perform simple linear regression to extract trend."
   ]
  },
  {
   "cell_type": "code",
   "execution_count": 365,
   "metadata": {},
   "outputs": [
    {
     "name": "stdout",
     "output_type": "stream",
     "text": [
      "Coefficient of determination: 0.12662299339034178\n",
      "Intercept: 2863.829208236648\n",
      "Slope: 7.282200288287672\n"
     ]
    }
   ],
   "source": [
    "model_dm = LinearRegression()\n",
    "x = np.arange(1, 61).reshape((-1, 1))\n",
    "model_dm.fit(x,y_dm)\n",
    "r_sq_dm = model_dm.score(x, y_dm)\n",
    "print('Coefficient of determination:', r_sq_dm)\n",
    "intercept_dm = model_dm.intercept_\n",
    "print('Intercept:', intercept_dm)\n",
    "slope_dm = model_dm.coef_[0]\n",
    "print('Slope:', slope_dm)"
   ]
  },
  {
   "cell_type": "markdown",
   "metadata": {},
   "source": [
    "Extend the trend to year 6. "
   ]
  },
  {
   "cell_type": "code",
   "execution_count": 366,
   "metadata": {},
   "outputs": [
    {
     "data": {
      "text/plain": [
       "[3308.043425822196,\n",
       " 3315.3256261104834,\n",
       " 3322.607826398771,\n",
       " 3329.8900266870587,\n",
       " 3337.172226975347,\n",
       " 3344.4544272636344,\n",
       " 3351.736627551922,\n",
       " 3359.0188278402097,\n",
       " 3366.3010281284974,\n",
       " 3373.583228416785,\n",
       " 3380.8654287050726,\n",
       " 3388.1476289933603]"
      ]
     },
     "execution_count": 366,
     "metadata": {},
     "output_type": "execute_result"
    }
   ],
   "source": [
    "#The forecast calculation is explicitly stated here but you can use sklearn's Predict function, as well (https://scikit-learn.org/stable/modules/generated/sklearn.linear_model.LinearRegression.html).\n",
    "forecast_dm = []\n",
    "for t in range(61,73):\n",
    "    forecast_dm.append(intercept_dm + t*slope_dm)\n",
    "forecast_dm"
   ]
  },
  {
   "cell_type": "markdown",
   "metadata": {},
   "source": [
    "Seasonalize year 6 forecasts."
   ]
  },
  {
   "cell_type": "code",
   "execution_count": 367,
   "metadata": {},
   "outputs": [
    {
     "data": {
      "text/plain": [
       "[2435.80908256434,\n",
       " 2749.7931440884304,\n",
       " 3850.388505200593,\n",
       " 4110.340615454126,\n",
       " 4411.174363480553,\n",
       " 4471.104962294022,\n",
       " 4281.45835281816,\n",
       " 3634.460299644157,\n",
       " 3194.7254379752067,\n",
       " 3045.552308560646,\n",
       " 2303.474361130887,\n",
       " 1659.5806134696074]"
      ]
     },
     "execution_count": 367,
     "metadata": {},
     "output_type": "execute_result"
    }
   ],
   "source": [
    "forecast_dm[0] = forecast_dm[0]*SI.loc['Average']['January']\n",
    "forecast_dm[1] = forecast_dm[1]*SI.loc['Average']['February']\n",
    "forecast_dm[2] = forecast_dm[2]*SI.loc['Average']['March']\n",
    "forecast_dm[3] = forecast_dm[3]*SI.loc['Average']['April']\n",
    "forecast_dm[4] = forecast_dm[4]*SI.loc['Average']['May']\n",
    "forecast_dm[5] = forecast_dm[5]*SI.loc['Average']['June']\n",
    "forecast_dm[6] = forecast_dm[6]*SI.loc['Average']['July']\n",
    "forecast_dm[7] = forecast_dm[7]*SI.loc['Average']['August']\n",
    "forecast_dm[8] = forecast_dm[8]*SI.loc['Average']['September']\n",
    "forecast_dm[9] = forecast_dm[9]*SI.loc['Average']['October']\n",
    "forecast_dm[10] = forecast_dm[10]*SI.loc['Average']['November']\n",
    "forecast_dm[11] = forecast_dm[11]*SI.loc['Average']['December']\n",
    "forecast_dm"
   ]
  },
  {
   "cell_type": "markdown",
   "metadata": {},
   "source": [
    "# Forecast Using Multiple Linear Regression"
   ]
  },
  {
   "cell_type": "markdown",
   "metadata": {},
   "source": [
    "Populate independent variables"
   ]
  },
  {
   "cell_type": "code",
   "execution_count": 368,
   "metadata": {},
   "outputs": [
    {
     "data": {
      "text/plain": [
       "array([[ 1],\n",
       "       [ 2],\n",
       "       [ 3],\n",
       "       [ 4],\n",
       "       [ 5],\n",
       "       [ 6],\n",
       "       [ 7],\n",
       "       [ 8],\n",
       "       [ 9],\n",
       "       [10],\n",
       "       [11],\n",
       "       [12],\n",
       "       [13],\n",
       "       [14],\n",
       "       [15],\n",
       "       [16],\n",
       "       [17],\n",
       "       [18],\n",
       "       [19],\n",
       "       [20],\n",
       "       [21],\n",
       "       [22],\n",
       "       [23],\n",
       "       [24],\n",
       "       [25],\n",
       "       [26],\n",
       "       [27],\n",
       "       [28],\n",
       "       [29],\n",
       "       [30],\n",
       "       [31],\n",
       "       [32],\n",
       "       [33],\n",
       "       [34],\n",
       "       [35],\n",
       "       [36],\n",
       "       [37],\n",
       "       [38],\n",
       "       [39],\n",
       "       [40],\n",
       "       [41],\n",
       "       [42],\n",
       "       [43],\n",
       "       [44],\n",
       "       [45],\n",
       "       [46],\n",
       "       [47],\n",
       "       [48],\n",
       "       [49],\n",
       "       [50],\n",
       "       [51],\n",
       "       [52],\n",
       "       [53],\n",
       "       [54],\n",
       "       [55],\n",
       "       [56],\n",
       "       [57],\n",
       "       [58],\n",
       "       [59],\n",
       "       [60]])"
      ]
     },
     "execution_count": 368,
     "metadata": {},
     "output_type": "execute_result"
    }
   ],
   "source": [
    "x = np.arange(1, 61).reshape((-1, 1))#Must change this to add the dummy binary variables.\n",
    "x"
   ]
  },
  {
   "cell_type": "markdown",
   "metadata": {},
   "source": [
    "Run multiple linear regression."
   ]
  },
  {
   "cell_type": "code",
   "execution_count": 369,
   "metadata": {},
   "outputs": [
    {
     "data": {
      "text/html": [
       "<style>#sk-container-id-17 {color: black;}#sk-container-id-17 pre{padding: 0;}#sk-container-id-17 div.sk-toggleable {background-color: white;}#sk-container-id-17 label.sk-toggleable__label {cursor: pointer;display: block;width: 100%;margin-bottom: 0;padding: 0.3em;box-sizing: border-box;text-align: center;}#sk-container-id-17 label.sk-toggleable__label-arrow:before {content: \"▸\";float: left;margin-right: 0.25em;color: #696969;}#sk-container-id-17 label.sk-toggleable__label-arrow:hover:before {color: black;}#sk-container-id-17 div.sk-estimator:hover label.sk-toggleable__label-arrow:before {color: black;}#sk-container-id-17 div.sk-toggleable__content {max-height: 0;max-width: 0;overflow: hidden;text-align: left;background-color: #f0f8ff;}#sk-container-id-17 div.sk-toggleable__content pre {margin: 0.2em;color: black;border-radius: 0.25em;background-color: #f0f8ff;}#sk-container-id-17 input.sk-toggleable__control:checked~div.sk-toggleable__content {max-height: 200px;max-width: 100%;overflow: auto;}#sk-container-id-17 input.sk-toggleable__control:checked~label.sk-toggleable__label-arrow:before {content: \"▾\";}#sk-container-id-17 div.sk-estimator input.sk-toggleable__control:checked~label.sk-toggleable__label {background-color: #d4ebff;}#sk-container-id-17 div.sk-label input.sk-toggleable__control:checked~label.sk-toggleable__label {background-color: #d4ebff;}#sk-container-id-17 input.sk-hidden--visually {border: 0;clip: rect(1px 1px 1px 1px);clip: rect(1px, 1px, 1px, 1px);height: 1px;margin: -1px;overflow: hidden;padding: 0;position: absolute;width: 1px;}#sk-container-id-17 div.sk-estimator {font-family: monospace;background-color: #f0f8ff;border: 1px dotted black;border-radius: 0.25em;box-sizing: border-box;margin-bottom: 0.5em;}#sk-container-id-17 div.sk-estimator:hover {background-color: #d4ebff;}#sk-container-id-17 div.sk-parallel-item::after {content: \"\";width: 100%;border-bottom: 1px solid gray;flex-grow: 1;}#sk-container-id-17 div.sk-label:hover label.sk-toggleable__label {background-color: #d4ebff;}#sk-container-id-17 div.sk-serial::before {content: \"\";position: absolute;border-left: 1px solid gray;box-sizing: border-box;top: 0;bottom: 0;left: 50%;z-index: 0;}#sk-container-id-17 div.sk-serial {display: flex;flex-direction: column;align-items: center;background-color: white;padding-right: 0.2em;padding-left: 0.2em;position: relative;}#sk-container-id-17 div.sk-item {position: relative;z-index: 1;}#sk-container-id-17 div.sk-parallel {display: flex;align-items: stretch;justify-content: center;background-color: white;position: relative;}#sk-container-id-17 div.sk-item::before, #sk-container-id-17 div.sk-parallel-item::before {content: \"\";position: absolute;border-left: 1px solid gray;box-sizing: border-box;top: 0;bottom: 0;left: 50%;z-index: -1;}#sk-container-id-17 div.sk-parallel-item {display: flex;flex-direction: column;z-index: 1;position: relative;background-color: white;}#sk-container-id-17 div.sk-parallel-item:first-child::after {align-self: flex-end;width: 50%;}#sk-container-id-17 div.sk-parallel-item:last-child::after {align-self: flex-start;width: 50%;}#sk-container-id-17 div.sk-parallel-item:only-child::after {width: 0;}#sk-container-id-17 div.sk-dashed-wrapped {border: 1px dashed gray;margin: 0 0.4em 0.5em 0.4em;box-sizing: border-box;padding-bottom: 0.4em;background-color: white;}#sk-container-id-17 div.sk-label label {font-family: monospace;font-weight: bold;display: inline-block;line-height: 1.2em;}#sk-container-id-17 div.sk-label-container {text-align: center;}#sk-container-id-17 div.sk-container {/* jupyter's `normalize.less` sets `[hidden] { display: none; }` but bootstrap.min.css set `[hidden] { display: none !important; }` so we also need the `!important` here to be able to override the default hidden behavior on the sphinx rendered scikit-learn.org. See: https://github.com/scikit-learn/scikit-learn/issues/21755 */display: inline-block !important;position: relative;}#sk-container-id-17 div.sk-text-repr-fallback {display: none;}</style><div id=\"sk-container-id-17\" class=\"sk-top-container\"><div class=\"sk-text-repr-fallback\"><pre>LinearRegression()</pre><b>In a Jupyter environment, please rerun this cell to show the HTML representation or trust the notebook. <br />On GitHub, the HTML representation is unable to render, please try loading this page with nbviewer.org.</b></div><div class=\"sk-container\" hidden><div class=\"sk-item\"><div class=\"sk-estimator sk-toggleable\"><input class=\"sk-toggleable__control sk-hidden--visually\" id=\"sk-estimator-id-17\" type=\"checkbox\" checked><label for=\"sk-estimator-id-17\" class=\"sk-toggleable__label sk-toggleable__label-arrow\">LinearRegression</label><div class=\"sk-toggleable__content\"><pre>LinearRegression()</pre></div></div></div></div></div>"
      ],
      "text/plain": [
       "LinearRegression()"
      ]
     },
     "execution_count": 369,
     "metadata": {},
     "output_type": "execute_result"
    }
   ],
   "source": [
    "model_mlr = LinearRegression()\n",
    "model_mlr.fit(x,y_dm) #Must change this. Basically, you need to extend the simple linear regression model to take multiple independent variables. You are referred to https://scikit-learn.org/stable/modules/generated/sklearn.linear_model.LinearRegression.html for the documentation of the package we use for this purpose. Make sure you use the correct y values, too."
   ]
  },
  {
   "cell_type": "markdown",
   "metadata": {},
   "source": [
    "Calculate the forecasts."
   ]
  },
  {
   "cell_type": "code",
   "execution_count": 370,
   "metadata": {},
   "outputs": [
    {
     "data": {
      "text/plain": [
       "[]"
      ]
     },
     "execution_count": 370,
     "metadata": {},
     "output_type": "execute_result"
    }
   ],
   "source": [
    "forecast_mlr = []\n",
    "#Must add this. Decide first whether you want to calculate the forecasts explicitly or via sklearn's Predict function (https://scikit-learn.org/stable/modules/generated/sklearn.linear_model.LinearRegression.html) and then execute.\n",
    "forecast_mlr"
   ]
  },
  {
   "cell_type": "markdown",
   "metadata": {},
   "source": [
    "# Calculate Forecast Accuracy"
   ]
  },
  {
   "cell_type": "code",
   "execution_count": 371,
   "metadata": {},
   "outputs": [
    {
     "data": {
      "text/plain": [
       "[2102.0, 2135.0, 3511.0, 3367.0, 3533.0, 3630.0, 2905.0, 2809.0]"
      ]
     },
     "execution_count": 371,
     "metadata": {},
     "output_type": "execute_result"
    }
   ],
   "source": [
    "actual_Year6 = []\n",
    "for t in range(65,73):\n",
    "    actual_Year6.append(row[t])\n",
    "actual_Year6"
   ]
  },
  {
   "cell_type": "code",
   "execution_count": 372,
   "metadata": {},
   "outputs": [
    {
     "name": "stdout",
     "output_type": "stream",
     "text": [
      "MAD_DM: 0.8154449389270688\n",
      "MAD_MLR: 0.5635365895740245\n"
     ]
    }
   ],
   "source": [
    "deviation_dm = []\n",
    "deviation_mlr = []\n",
    "for t in range(8):\n",
    "    deviation_dm.append(np.random.normal(0,1,1)) #Must change this, it is curently just random\n",
    "    deviation_mlr.append(np.random.normal(0,1,1)) #Must change this, it is curently just random\n",
    "MAD_dm = pf.CalculateMeanAbsoluteDeviation(deviation_dm)\n",
    "MAD_mlr = pf.CalculateMeanAbsoluteDeviation(deviation_mlr)\n",
    "print(\"MAD_DM:\",MAD_dm)\n",
    "print(\"MAD_MLR:\",MAD_mlr)"
   ]
  },
  {
   "cell_type": "code",
   "execution_count": null,
   "metadata": {},
   "outputs": [],
   "source": []
  }
 ],
 "metadata": {
  "kernelspec": {
   "display_name": "Python 3 (ipykernel)",
   "language": "python",
   "name": "python3"
  },
  "language_info": {
   "codemirror_mode": {
    "name": "ipython",
    "version": 3
   },
   "file_extension": ".py",
   "mimetype": "text/x-python",
   "name": "python",
   "nbconvert_exporter": "python",
   "pygments_lexer": "ipython3",
   "version": "3.11.5"
  }
 },
 "nbformat": 4,
 "nbformat_minor": 4
}
